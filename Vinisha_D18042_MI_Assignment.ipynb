{
 "cells": [
  {
   "cell_type": "markdown",
   "metadata": {},
   "source": [
    "### Controlling Overfitting using Regularized Regression "
   ]
  },
  {
   "cell_type": "markdown",
   "metadata": {},
   "source": [
    "### Part 1 - Learning how to Fit Regularized Regression Model"
   ]
  },
  {
   "cell_type": "code",
   "execution_count": 1,
   "metadata": {},
   "outputs": [],
   "source": [
    "#The required libraries\n",
    "import pandas as pd\n",
    "import numpy as np\n",
    "import matplotlib.pyplot as plt"
   ]
  },
  {
   "cell_type": "code",
   "execution_count": 2,
   "metadata": {},
   "outputs": [],
   "source": [
    "#Data Hitters (same data we used in our ML class)\n",
    "hit = pd.read_csv(\"Hitters.csv\")"
   ]
  },
  {
   "cell_type": "markdown",
   "metadata": {},
   "source": [
    "### Preparing the Data for Model Building"
   ]
  },
  {
   "cell_type": "code",
   "execution_count": 3,
   "metadata": {},
   "outputs": [
    {
     "data": {
      "text/plain": [
       "Index(['Unnamed: 0', 'AtBat', 'Hits', 'HmRun', 'Runs', 'RBI', 'Walks', 'Years',\n",
       "       'CAtBat', 'CHits', 'CHmRun', 'CRuns', 'CRBI', 'CWalks', 'League',\n",
       "       'Division', 'PutOuts', 'Assists', 'Errors', 'Salary', 'NewLeague'],\n",
       "      dtype='object')"
      ]
     },
     "execution_count": 3,
     "metadata": {},
     "output_type": "execute_result"
    }
   ],
   "source": [
    "#Variables\n",
    "hit.columns"
   ]
  },
  {
   "cell_type": "code",
   "execution_count": 4,
   "metadata": {},
   "outputs": [],
   "source": [
    "#Let us drop the column 'Unnamed'\n",
    "hit2=hit.drop('Unnamed: 0',axis=1)"
   ]
  },
  {
   "cell_type": "code",
   "execution_count": 5,
   "metadata": {
    "collapsed": true
   },
   "outputs": [
    {
     "data": {
      "text/plain": [
       "AtBat         0\n",
       "Hits          0\n",
       "HmRun         0\n",
       "Runs          0\n",
       "RBI           0\n",
       "Walks         0\n",
       "Years         0\n",
       "CAtBat        0\n",
       "CHits         0\n",
       "CHmRun        0\n",
       "CRuns         0\n",
       "CRBI          0\n",
       "CWalks        0\n",
       "League        0\n",
       "Division      0\n",
       "PutOuts       0\n",
       "Assists       0\n",
       "Errors        0\n",
       "Salary       59\n",
       "NewLeague     0\n",
       "dtype: int64"
      ]
     },
     "execution_count": 5,
     "metadata": {},
     "output_type": "execute_result"
    }
   ],
   "source": [
    "#Missing values?\n",
    "hit2.isnull().sum()"
   ]
  },
  {
   "cell_type": "code",
   "execution_count": 6,
   "metadata": {},
   "outputs": [],
   "source": [
    "#The target variable 'Salary' contains some missing values.\n",
    "#Let us drop the rows containng these missing values\n",
    "\n",
    "hit2=hit2.dropna()"
   ]
  },
  {
   "cell_type": "code",
   "execution_count": 7,
   "metadata": {
    "scrolled": true
   },
   "outputs": [
    {
     "data": {
      "text/plain": [
       "AtBat        0\n",
       "Hits         0\n",
       "HmRun        0\n",
       "Runs         0\n",
       "RBI          0\n",
       "Walks        0\n",
       "Years        0\n",
       "CAtBat       0\n",
       "CHits        0\n",
       "CHmRun       0\n",
       "CRuns        0\n",
       "CRBI         0\n",
       "CWalks       0\n",
       "League       0\n",
       "Division     0\n",
       "PutOuts      0\n",
       "Assists      0\n",
       "Errors       0\n",
       "Salary       0\n",
       "NewLeague    0\n",
       "dtype: int64"
      ]
     },
     "execution_count": 7,
     "metadata": {},
     "output_type": "execute_result"
    }
   ],
   "source": [
    "hit2.isnull().sum()"
   ]
  },
  {
   "cell_type": "code",
   "execution_count": 8,
   "metadata": {},
   "outputs": [
    {
     "data": {
      "text/plain": [
       "(263, 20)"
      ]
     },
     "execution_count": 8,
     "metadata": {},
     "output_type": "execute_result"
    }
   ],
   "source": [
    "hit2.shape"
   ]
  },
  {
   "cell_type": "code",
   "execution_count": 9,
   "metadata": {},
   "outputs": [
    {
     "data": {
      "text/html": [
       "<div>\n",
       "<style scoped>\n",
       "    .dataframe tbody tr th:only-of-type {\n",
       "        vertical-align: middle;\n",
       "    }\n",
       "\n",
       "    .dataframe tbody tr th {\n",
       "        vertical-align: top;\n",
       "    }\n",
       "\n",
       "    .dataframe thead th {\n",
       "        text-align: right;\n",
       "    }\n",
       "</style>\n",
       "<table border=\"1\" class=\"dataframe\">\n",
       "  <thead>\n",
       "    <tr style=\"text-align: right;\">\n",
       "      <th></th>\n",
       "      <th>AtBat</th>\n",
       "      <th>Hits</th>\n",
       "      <th>HmRun</th>\n",
       "      <th>Runs</th>\n",
       "      <th>RBI</th>\n",
       "      <th>Walks</th>\n",
       "      <th>Years</th>\n",
       "      <th>CAtBat</th>\n",
       "      <th>CHits</th>\n",
       "      <th>CHmRun</th>\n",
       "      <th>CRuns</th>\n",
       "      <th>CRBI</th>\n",
       "      <th>CWalks</th>\n",
       "      <th>League</th>\n",
       "      <th>Division</th>\n",
       "      <th>PutOuts</th>\n",
       "      <th>Assists</th>\n",
       "      <th>Errors</th>\n",
       "      <th>Salary</th>\n",
       "      <th>NewLeague</th>\n",
       "    </tr>\n",
       "  </thead>\n",
       "  <tbody>\n",
       "    <tr>\n",
       "      <th>1</th>\n",
       "      <td>315</td>\n",
       "      <td>81</td>\n",
       "      <td>7</td>\n",
       "      <td>24</td>\n",
       "      <td>38</td>\n",
       "      <td>39</td>\n",
       "      <td>14</td>\n",
       "      <td>3449</td>\n",
       "      <td>835</td>\n",
       "      <td>69</td>\n",
       "      <td>321</td>\n",
       "      <td>414</td>\n",
       "      <td>375</td>\n",
       "      <td>N</td>\n",
       "      <td>W</td>\n",
       "      <td>632</td>\n",
       "      <td>43</td>\n",
       "      <td>10</td>\n",
       "      <td>475.0</td>\n",
       "      <td>N</td>\n",
       "    </tr>\n",
       "    <tr>\n",
       "      <th>2</th>\n",
       "      <td>479</td>\n",
       "      <td>130</td>\n",
       "      <td>18</td>\n",
       "      <td>66</td>\n",
       "      <td>72</td>\n",
       "      <td>76</td>\n",
       "      <td>3</td>\n",
       "      <td>1624</td>\n",
       "      <td>457</td>\n",
       "      <td>63</td>\n",
       "      <td>224</td>\n",
       "      <td>266</td>\n",
       "      <td>263</td>\n",
       "      <td>A</td>\n",
       "      <td>W</td>\n",
       "      <td>880</td>\n",
       "      <td>82</td>\n",
       "      <td>14</td>\n",
       "      <td>480.0</td>\n",
       "      <td>A</td>\n",
       "    </tr>\n",
       "    <tr>\n",
       "      <th>3</th>\n",
       "      <td>496</td>\n",
       "      <td>141</td>\n",
       "      <td>20</td>\n",
       "      <td>65</td>\n",
       "      <td>78</td>\n",
       "      <td>37</td>\n",
       "      <td>11</td>\n",
       "      <td>5628</td>\n",
       "      <td>1575</td>\n",
       "      <td>225</td>\n",
       "      <td>828</td>\n",
       "      <td>838</td>\n",
       "      <td>354</td>\n",
       "      <td>N</td>\n",
       "      <td>E</td>\n",
       "      <td>200</td>\n",
       "      <td>11</td>\n",
       "      <td>3</td>\n",
       "      <td>500.0</td>\n",
       "      <td>N</td>\n",
       "    </tr>\n",
       "    <tr>\n",
       "      <th>4</th>\n",
       "      <td>321</td>\n",
       "      <td>87</td>\n",
       "      <td>10</td>\n",
       "      <td>39</td>\n",
       "      <td>42</td>\n",
       "      <td>30</td>\n",
       "      <td>2</td>\n",
       "      <td>396</td>\n",
       "      <td>101</td>\n",
       "      <td>12</td>\n",
       "      <td>48</td>\n",
       "      <td>46</td>\n",
       "      <td>33</td>\n",
       "      <td>N</td>\n",
       "      <td>E</td>\n",
       "      <td>805</td>\n",
       "      <td>40</td>\n",
       "      <td>4</td>\n",
       "      <td>91.5</td>\n",
       "      <td>N</td>\n",
       "    </tr>\n",
       "    <tr>\n",
       "      <th>5</th>\n",
       "      <td>594</td>\n",
       "      <td>169</td>\n",
       "      <td>4</td>\n",
       "      <td>74</td>\n",
       "      <td>51</td>\n",
       "      <td>35</td>\n",
       "      <td>11</td>\n",
       "      <td>4408</td>\n",
       "      <td>1133</td>\n",
       "      <td>19</td>\n",
       "      <td>501</td>\n",
       "      <td>336</td>\n",
       "      <td>194</td>\n",
       "      <td>A</td>\n",
       "      <td>W</td>\n",
       "      <td>282</td>\n",
       "      <td>421</td>\n",
       "      <td>25</td>\n",
       "      <td>750.0</td>\n",
       "      <td>A</td>\n",
       "    </tr>\n",
       "  </tbody>\n",
       "</table>\n",
       "</div>"
      ],
      "text/plain": [
       "   AtBat  Hits  HmRun  Runs  RBI  Walks  Years  CAtBat  CHits  CHmRun  CRuns  \\\n",
       "1    315    81      7    24   38     39     14    3449    835      69    321   \n",
       "2    479   130     18    66   72     76      3    1624    457      63    224   \n",
       "3    496   141     20    65   78     37     11    5628   1575     225    828   \n",
       "4    321    87     10    39   42     30      2     396    101      12     48   \n",
       "5    594   169      4    74   51     35     11    4408   1133      19    501   \n",
       "\n",
       "   CRBI  CWalks League Division  PutOuts  Assists  Errors  Salary NewLeague  \n",
       "1   414     375      N        W      632       43      10   475.0         N  \n",
       "2   266     263      A        W      880       82      14   480.0         A  \n",
       "3   838     354      N        E      200       11       3   500.0         N  \n",
       "4    46      33      N        E      805       40       4    91.5         N  \n",
       "5   336     194      A        W      282      421      25   750.0         A  "
      ]
     },
     "execution_count": 9,
     "metadata": {},
     "output_type": "execute_result"
    }
   ],
   "source": [
    "hit2.head()"
   ]
  },
  {
   "cell_type": "code",
   "execution_count": 10,
   "metadata": {
    "collapsed": true
   },
   "outputs": [
    {
     "name": "stdout",
     "output_type": "stream",
     "text": [
      "<class 'pandas.core.frame.DataFrame'>\n",
      "Int64Index: 263 entries, 1 to 321\n",
      "Data columns (total 20 columns):\n",
      "AtBat        263 non-null int64\n",
      "Hits         263 non-null int64\n",
      "HmRun        263 non-null int64\n",
      "Runs         263 non-null int64\n",
      "RBI          263 non-null int64\n",
      "Walks        263 non-null int64\n",
      "Years        263 non-null int64\n",
      "CAtBat       263 non-null int64\n",
      "CHits        263 non-null int64\n",
      "CHmRun       263 non-null int64\n",
      "CRuns        263 non-null int64\n",
      "CRBI         263 non-null int64\n",
      "CWalks       263 non-null int64\n",
      "League       263 non-null object\n",
      "Division     263 non-null object\n",
      "PutOuts      263 non-null int64\n",
      "Assists      263 non-null int64\n",
      "Errors       263 non-null int64\n",
      "Salary       263 non-null float64\n",
      "NewLeague    263 non-null object\n",
      "dtypes: float64(1), int64(16), object(3)\n",
      "memory usage: 43.1+ KB\n"
     ]
    }
   ],
   "source": [
    "hit2.info()"
   ]
  },
  {
   "cell_type": "code",
   "execution_count": 11,
   "metadata": {},
   "outputs": [],
   "source": [
    "#Creating Dummy variables for the nominal variables ['League', 'Division', 'NewLeague']\n",
    "\n",
    "dummies=pd.get_dummies(hit2[['League','Division','NewLeague']])"
   ]
  },
  {
   "cell_type": "code",
   "execution_count": 12,
   "metadata": {},
   "outputs": [
    {
     "data": {
      "text/html": [
       "<div>\n",
       "<style scoped>\n",
       "    .dataframe tbody tr th:only-of-type {\n",
       "        vertical-align: middle;\n",
       "    }\n",
       "\n",
       "    .dataframe tbody tr th {\n",
       "        vertical-align: top;\n",
       "    }\n",
       "\n",
       "    .dataframe thead th {\n",
       "        text-align: right;\n",
       "    }\n",
       "</style>\n",
       "<table border=\"1\" class=\"dataframe\">\n",
       "  <thead>\n",
       "    <tr style=\"text-align: right;\">\n",
       "      <th></th>\n",
       "      <th>League_A</th>\n",
       "      <th>League_N</th>\n",
       "      <th>Division_E</th>\n",
       "      <th>Division_W</th>\n",
       "      <th>NewLeague_A</th>\n",
       "      <th>NewLeague_N</th>\n",
       "    </tr>\n",
       "  </thead>\n",
       "  <tbody>\n",
       "    <tr>\n",
       "      <th>1</th>\n",
       "      <td>0</td>\n",
       "      <td>1</td>\n",
       "      <td>0</td>\n",
       "      <td>1</td>\n",
       "      <td>0</td>\n",
       "      <td>1</td>\n",
       "    </tr>\n",
       "    <tr>\n",
       "      <th>2</th>\n",
       "      <td>1</td>\n",
       "      <td>0</td>\n",
       "      <td>0</td>\n",
       "      <td>1</td>\n",
       "      <td>1</td>\n",
       "      <td>0</td>\n",
       "    </tr>\n",
       "    <tr>\n",
       "      <th>3</th>\n",
       "      <td>0</td>\n",
       "      <td>1</td>\n",
       "      <td>1</td>\n",
       "      <td>0</td>\n",
       "      <td>0</td>\n",
       "      <td>1</td>\n",
       "    </tr>\n",
       "    <tr>\n",
       "      <th>4</th>\n",
       "      <td>0</td>\n",
       "      <td>1</td>\n",
       "      <td>1</td>\n",
       "      <td>0</td>\n",
       "      <td>0</td>\n",
       "      <td>1</td>\n",
       "    </tr>\n",
       "    <tr>\n",
       "      <th>5</th>\n",
       "      <td>1</td>\n",
       "      <td>0</td>\n",
       "      <td>0</td>\n",
       "      <td>1</td>\n",
       "      <td>1</td>\n",
       "      <td>0</td>\n",
       "    </tr>\n",
       "  </tbody>\n",
       "</table>\n",
       "</div>"
      ],
      "text/plain": [
       "   League_A  League_N  Division_E  Division_W  NewLeague_A  NewLeague_N\n",
       "1         0         1           0           1            0            1\n",
       "2         1         0           0           1            1            0\n",
       "3         0         1           1           0            0            1\n",
       "4         0         1           1           0            0            1\n",
       "5         1         0           0           1            1            0"
      ]
     },
     "execution_count": 12,
     "metadata": {},
     "output_type": "execute_result"
    }
   ],
   "source": [
    "dummies.head()"
   ]
  },
  {
   "cell_type": "code",
   "execution_count": 13,
   "metadata": {},
   "outputs": [],
   "source": [
    "#Let us drop the original nominal variables from hit2 add these dummy variables to it (at the same time let us also remove the Target variable Salary)\n",
    "#Step 1 - dropping\n",
    "\n",
    "hit2=hit2.drop(['League','Division','NewLeague'],axis=1).astype('float64')"
   ]
  },
  {
   "cell_type": "code",
   "execution_count": 14,
   "metadata": {},
   "outputs": [],
   "source": [
    "#Step 2 - Concatinating\n",
    "\n",
    "hit2=pd.concat([hit2,dummies[['League_N','Division_W','NewLeague_N']]],axis=1)"
   ]
  },
  {
   "cell_type": "code",
   "execution_count": 15,
   "metadata": {},
   "outputs": [
    {
     "data": {
      "text/html": [
       "<div>\n",
       "<style scoped>\n",
       "    .dataframe tbody tr th:only-of-type {\n",
       "        vertical-align: middle;\n",
       "    }\n",
       "\n",
       "    .dataframe tbody tr th {\n",
       "        vertical-align: top;\n",
       "    }\n",
       "\n",
       "    .dataframe thead th {\n",
       "        text-align: right;\n",
       "    }\n",
       "</style>\n",
       "<table border=\"1\" class=\"dataframe\">\n",
       "  <thead>\n",
       "    <tr style=\"text-align: right;\">\n",
       "      <th></th>\n",
       "      <th>AtBat</th>\n",
       "      <th>Hits</th>\n",
       "      <th>HmRun</th>\n",
       "      <th>Runs</th>\n",
       "      <th>RBI</th>\n",
       "      <th>Walks</th>\n",
       "      <th>Years</th>\n",
       "      <th>CAtBat</th>\n",
       "      <th>CHits</th>\n",
       "      <th>CHmRun</th>\n",
       "      <th>CRuns</th>\n",
       "      <th>CRBI</th>\n",
       "      <th>CWalks</th>\n",
       "      <th>PutOuts</th>\n",
       "      <th>Assists</th>\n",
       "      <th>Errors</th>\n",
       "      <th>Salary</th>\n",
       "      <th>League_N</th>\n",
       "      <th>Division_W</th>\n",
       "      <th>NewLeague_N</th>\n",
       "    </tr>\n",
       "  </thead>\n",
       "  <tbody>\n",
       "    <tr>\n",
       "      <th>1</th>\n",
       "      <td>315.0</td>\n",
       "      <td>81.0</td>\n",
       "      <td>7.0</td>\n",
       "      <td>24.0</td>\n",
       "      <td>38.0</td>\n",
       "      <td>39.0</td>\n",
       "      <td>14.0</td>\n",
       "      <td>3449.0</td>\n",
       "      <td>835.0</td>\n",
       "      <td>69.0</td>\n",
       "      <td>321.0</td>\n",
       "      <td>414.0</td>\n",
       "      <td>375.0</td>\n",
       "      <td>632.0</td>\n",
       "      <td>43.0</td>\n",
       "      <td>10.0</td>\n",
       "      <td>475.0</td>\n",
       "      <td>1</td>\n",
       "      <td>1</td>\n",
       "      <td>1</td>\n",
       "    </tr>\n",
       "    <tr>\n",
       "      <th>2</th>\n",
       "      <td>479.0</td>\n",
       "      <td>130.0</td>\n",
       "      <td>18.0</td>\n",
       "      <td>66.0</td>\n",
       "      <td>72.0</td>\n",
       "      <td>76.0</td>\n",
       "      <td>3.0</td>\n",
       "      <td>1624.0</td>\n",
       "      <td>457.0</td>\n",
       "      <td>63.0</td>\n",
       "      <td>224.0</td>\n",
       "      <td>266.0</td>\n",
       "      <td>263.0</td>\n",
       "      <td>880.0</td>\n",
       "      <td>82.0</td>\n",
       "      <td>14.0</td>\n",
       "      <td>480.0</td>\n",
       "      <td>0</td>\n",
       "      <td>1</td>\n",
       "      <td>0</td>\n",
       "    </tr>\n",
       "    <tr>\n",
       "      <th>3</th>\n",
       "      <td>496.0</td>\n",
       "      <td>141.0</td>\n",
       "      <td>20.0</td>\n",
       "      <td>65.0</td>\n",
       "      <td>78.0</td>\n",
       "      <td>37.0</td>\n",
       "      <td>11.0</td>\n",
       "      <td>5628.0</td>\n",
       "      <td>1575.0</td>\n",
       "      <td>225.0</td>\n",
       "      <td>828.0</td>\n",
       "      <td>838.0</td>\n",
       "      <td>354.0</td>\n",
       "      <td>200.0</td>\n",
       "      <td>11.0</td>\n",
       "      <td>3.0</td>\n",
       "      <td>500.0</td>\n",
       "      <td>1</td>\n",
       "      <td>0</td>\n",
       "      <td>1</td>\n",
       "    </tr>\n",
       "    <tr>\n",
       "      <th>4</th>\n",
       "      <td>321.0</td>\n",
       "      <td>87.0</td>\n",
       "      <td>10.0</td>\n",
       "      <td>39.0</td>\n",
       "      <td>42.0</td>\n",
       "      <td>30.0</td>\n",
       "      <td>2.0</td>\n",
       "      <td>396.0</td>\n",
       "      <td>101.0</td>\n",
       "      <td>12.0</td>\n",
       "      <td>48.0</td>\n",
       "      <td>46.0</td>\n",
       "      <td>33.0</td>\n",
       "      <td>805.0</td>\n",
       "      <td>40.0</td>\n",
       "      <td>4.0</td>\n",
       "      <td>91.5</td>\n",
       "      <td>1</td>\n",
       "      <td>0</td>\n",
       "      <td>1</td>\n",
       "    </tr>\n",
       "    <tr>\n",
       "      <th>5</th>\n",
       "      <td>594.0</td>\n",
       "      <td>169.0</td>\n",
       "      <td>4.0</td>\n",
       "      <td>74.0</td>\n",
       "      <td>51.0</td>\n",
       "      <td>35.0</td>\n",
       "      <td>11.0</td>\n",
       "      <td>4408.0</td>\n",
       "      <td>1133.0</td>\n",
       "      <td>19.0</td>\n",
       "      <td>501.0</td>\n",
       "      <td>336.0</td>\n",
       "      <td>194.0</td>\n",
       "      <td>282.0</td>\n",
       "      <td>421.0</td>\n",
       "      <td>25.0</td>\n",
       "      <td>750.0</td>\n",
       "      <td>0</td>\n",
       "      <td>1</td>\n",
       "      <td>0</td>\n",
       "    </tr>\n",
       "  </tbody>\n",
       "</table>\n",
       "</div>"
      ],
      "text/plain": [
       "   AtBat   Hits  HmRun  Runs   RBI  Walks  Years  CAtBat   CHits  CHmRun  \\\n",
       "1  315.0   81.0    7.0  24.0  38.0   39.0   14.0  3449.0   835.0    69.0   \n",
       "2  479.0  130.0   18.0  66.0  72.0   76.0    3.0  1624.0   457.0    63.0   \n",
       "3  496.0  141.0   20.0  65.0  78.0   37.0   11.0  5628.0  1575.0   225.0   \n",
       "4  321.0   87.0   10.0  39.0  42.0   30.0    2.0   396.0   101.0    12.0   \n",
       "5  594.0  169.0    4.0  74.0  51.0   35.0   11.0  4408.0  1133.0    19.0   \n",
       "\n",
       "   CRuns   CRBI  CWalks  PutOuts  Assists  Errors  Salary  League_N  \\\n",
       "1  321.0  414.0   375.0    632.0     43.0    10.0   475.0         1   \n",
       "2  224.0  266.0   263.0    880.0     82.0    14.0   480.0         0   \n",
       "3  828.0  838.0   354.0    200.0     11.0     3.0   500.0         1   \n",
       "4   48.0   46.0    33.0    805.0     40.0     4.0    91.5         1   \n",
       "5  501.0  336.0   194.0    282.0    421.0    25.0   750.0         0   \n",
       "\n",
       "   Division_W  NewLeague_N  \n",
       "1           1            1  \n",
       "2           1            0  \n",
       "3           0            1  \n",
       "4           0            1  \n",
       "5           1            0  "
      ]
     },
     "execution_count": 15,
     "metadata": {},
     "output_type": "execute_result"
    }
   ],
   "source": [
    "hit2.head()"
   ]
  },
  {
   "cell_type": "code",
   "execution_count": 16,
   "metadata": {},
   "outputs": [],
   "source": [
    "#Separating out the predictors (X) and the target (y)\n",
    "y=hit2['Salary']\n",
    "X=hit2.drop('Salary',axis=1)"
   ]
  },
  {
   "cell_type": "code",
   "execution_count": 17,
   "metadata": {},
   "outputs": [],
   "source": [
    "#Train-Test Split\n",
    "from sklearn.model_selection import train_test_split\n",
    "X_train,X_test,y_train,y_test=train_test_split(X,y,test_size=0.5,random_state=1)"
   ]
  },
  {
   "cell_type": "code",
   "execution_count": 18,
   "metadata": {},
   "outputs": [
    {
     "name": "stdout",
     "output_type": "stream",
     "text": [
      "dimension of the train X (131, 19)\n",
      "dimension of the train y (131,)\n",
      "dimension of the test X (132, 19)\n",
      "dimension of the test y (132,)\n"
     ]
    }
   ],
   "source": [
    "#Dimension checks\n",
    "print('dimension of the train X',X_train.shape)\n",
    "print('dimension of the train y',y_train.shape)\n",
    "print('dimension of the test X',X_test.shape)\n",
    "print('dimension of the test y',y_test.shape)\n"
   ]
  },
  {
   "cell_type": "markdown",
   "metadata": {},
   "source": [
    "### A. Fitting a Ridge Regression Model"
   ]
  },
  {
   "cell_type": "code",
   "execution_count": 19,
   "metadata": {},
   "outputs": [],
   "source": [
    "#Libraries for Model fitting and Validation\n",
    "\n",
    "from sklearn.preprocessing import scale                           #For scaling the data\n",
    "from sklearn.linear_model import Ridge, RidgeCV, Lasso, LassoCV   #For fitting regularized models and cross validation algo.\n",
    "from sklearn.metrics import mean_squared_error                    #For validation\n"
   ]
  },
  {
   "cell_type": "code",
   "execution_count": 20,
   "metadata": {},
   "outputs": [
    {
     "name": "stdout",
     "output_type": "stream",
     "text": [
      "intercept  136.67579374145896\n",
      "AtBat           0.098658\n",
      "Hits            0.446094\n",
      "HmRun           1.412107\n",
      "Runs            0.660773\n",
      "RBI             0.843403\n",
      "Walks           1.008473\n",
      "Years           2.779882\n",
      "CAtBat          0.008244\n",
      "CHits           0.034149\n",
      "CHmRun          0.268634\n",
      "CRuns           0.070407\n",
      "CRBI            0.070060\n",
      "CWalks          0.082795\n",
      "PutOuts         0.104747\n",
      "Assists        -0.003739\n",
      "Errors          0.268363\n",
      "League_N        4.241051\n",
      "Division_W    -30.768885\n",
      "NewLeague_N     4.123474\n",
      "dtype: float64\n"
     ]
    }
   ],
   "source": [
    "#Fitting a ridge regression for a particular value of alpha\n",
    "\n",
    "ridge1=Ridge(alpha=4,normalize=True, fit_intercept=True)\n",
    "ridge1.fit(X_train,y_train)\n",
    "\n",
    "print('intercept ',ridge1.intercept_)\n",
    "print(pd.Series(ridge1.coef_,index=X.columns))"
   ]
  },
  {
   "cell_type": "code",
   "execution_count": 21,
   "metadata": {},
   "outputs": [
    {
     "data": {
      "text/plain": [
       "Ridge(alpha=4, copy_X=True, fit_intercept=True, max_iter=None, normalize=True,\n",
       "   random_state=None, solver='auto', tol=0.001)"
      ]
     },
     "execution_count": 21,
     "metadata": {},
     "output_type": "execute_result"
    }
   ],
   "source": [
    "ridge1"
   ]
  },
  {
   "cell_type": "code",
   "execution_count": 22,
   "metadata": {},
   "outputs": [
    {
     "name": "stdout",
     "output_type": "stream",
     "text": [
      "intercept  532.709015221996\n",
      "AtBat          1.317464e-11\n",
      "Hits           4.647486e-11\n",
      "HmRun          2.079865e-10\n",
      "Runs           7.726175e-11\n",
      "RBI            9.390640e-11\n",
      "Walks          9.769219e-11\n",
      "Years          3.961442e-10\n",
      "CAtBat         1.060533e-12\n",
      "CHits          3.993605e-12\n",
      "CHmRun         2.959428e-11\n",
      "CRuns          8.245247e-12\n",
      "CRBI           7.795451e-12\n",
      "CWalks         9.894387e-12\n",
      "PutOuts        7.268991e-12\n",
      "Assists       -2.615885e-13\n",
      "Errors         2.084514e-11\n",
      "League_N      -2.501281e-10\n",
      "Division_W    -1.549951e-09\n",
      "NewLeague_N   -2.023196e-10\n",
      "dtype: float64\n"
     ]
    }
   ],
   "source": [
    "#Fitting a ridge regression for a particular value of alpha\n",
    "\n",
    "ridge2=Ridge(alpha=10e10,normalize=True, fit_intercept=True)\n",
    "ridge2.fit(X_train,y_train)\n",
    "\n",
    "print('intercept ',ridge2.intercept_)\n",
    "print(pd.Series(ridge2.coef_,index=X.columns))\n",
    "\n"
   ]
  },
  {
   "cell_type": "code",
   "execution_count": 23,
   "metadata": {},
   "outputs": [
    {
     "name": "stdout",
     "output_type": "stream",
     "text": [
      "\n",
      "MSE= 106216.52238005561\n"
     ]
    }
   ],
   "source": [
    "# Use a ridge regression model to predict the test data\n",
    "\n",
    "pred1=ridge1.predict(X_test)\n",
    "\n",
    "print('\\nMSE=',mean_squared_error(y_test,pred1))"
   ]
  },
  {
   "cell_type": "code",
   "execution_count": 24,
   "metadata": {},
   "outputs": [
    {
     "name": "stdout",
     "output_type": "stream",
     "text": [
      "\n",
      "MSE= 172862.23590910813\n"
     ]
    }
   ],
   "source": [
    "pred2=ridge2.predict(X_test)\n",
    "\n",
    "print('\\nMSE=',mean_squared_error(y_test,pred2))"
   ]
  },
  {
   "cell_type": "code",
   "execution_count": 25,
   "metadata": {},
   "outputs": [],
   "source": [
    "#FOR MANY ALPHAS...\n",
    "#creating a grid for alpha(a.k.a lambda)\n",
    "alphas=10**np.linspace(10,-2,100)\n"
   ]
  },
  {
   "cell_type": "code",
   "execution_count": 26,
   "metadata": {},
   "outputs": [],
   "source": [
    "#Fitting a Ridge Regression Model for each alpha\n",
    "\n",
    "ridge=Ridge(normalize=True,fit_intercept=True)\n",
    "coefs=[]\n",
    "\n",
    "for a in alphas:\n",
    "    ridge.set_params(alpha=a)\n",
    "    ridge.fit(X_train,y_train)\n",
    "    coefs.append(ridge.intercept_)\n",
    "    coefs.append(ridge.coef_)"
   ]
  },
  {
   "cell_type": "code",
   "execution_count": 27,
   "metadata": {},
   "outputs": [
    {
     "data": {
      "text/plain": [
       "[532.7090148153795,\n",
       " array([ 1.31746375e-10,  4.64748588e-10,  2.07986517e-09,  7.72617506e-10,\n",
       "         9.39063959e-10,  9.76921945e-10,  3.96144226e-09,  1.06053327e-11,\n",
       "         3.99360518e-11,  2.95942756e-10,  8.24524707e-11,  7.79545054e-11,\n",
       "         9.89438678e-11,  7.26899124e-11, -2.61588516e-12,  2.08451397e-10,\n",
       "        -2.50128060e-09, -1.54995108e-08, -2.02319577e-09]),\n",
       " 532.7090146699278,\n",
       " array([ 1.74160955e-10,  6.14370283e-10,  2.74945935e-09,  1.02135487e-09,\n",
       "         1.24138729e-09,  1.29143332e-09,  5.23679353e-09,  1.40196257e-11,\n",
       "         5.27931102e-11,  3.91218906e-10,  1.08997314e-10,  1.03051268e-10,\n",
       "         1.30797970e-10,  9.60917862e-11, -3.45804623e-12,  2.75560479e-10,\n",
       "        -3.30654574e-09, -2.04894412e-08, -2.67454574e-09]),\n",
       " 532.7090144776492,\n",
       " array([ 2.30230532e-10,  8.12161357e-10,  3.63462345e-09,  1.35017103e-09,\n",
       "         1.64104094e-09,  1.70719884e-09,  6.92273285e-09,  1.85331200e-11,\n",
       "         6.97893847e-11,  5.17168370e-10,  1.44088034e-10,  1.36227712e-10,\n",
       "         1.72907219e-10,  1.27027686e-10, -4.57133361e-12,  3.64274736e-10,\n",
       "        -4.37105887e-09, -2.70858354e-08, -3.53559207e-09]),\n",
       " 532.7090142234682,\n",
       " array([ 3.04351214e-10,  1.07362952e-09,  4.80475829e-09,  1.78484664e-09,\n",
       "         2.16935954e-09,  2.25681640e-09,  9.15144541e-09,  2.44996940e-11,\n",
       "         9.22574593e-11,  6.83666149e-10,  1.90475901e-10,  1.80085018e-10,\n",
       "         2.28573167e-10,  1.67923125e-10, -6.04303399e-12,  4.81549763e-10,\n",
       "        -5.77828257e-09, -3.58058803e-08, -4.67384463e-09]),\n",
       " 532.7090138874559,\n",
       " array([ 4.02334393e-10,  1.41927503e-09,  6.35160769e-09,  2.35946222e-09,\n",
       "         2.86776564e-09,  2.98337846e-09,  1.20976722e-08,  3.23871536e-11,\n",
       "         1.21958932e-10,  9.03766413e-10,  2.51797932e-10,  2.38061795e-10,\n",
       "         3.02160275e-10,  2.21984489e-10, -7.98853529e-12,  6.36580447e-10,\n",
       "        -7.63854949e-09, -4.73332665e-08, -6.17854752e-09]),\n",
       " 532.7090134432673,\n",
       " array([ 5.31862389e-10,  1.87619807e-09,  8.39645155e-09,  3.11907020e-09,\n",
       "         3.79101740e-09,  3.94385074e-09,  1.59924107e-08,  4.28139110e-11,\n",
       "         1.61222530e-10,  1.19472601e-09,  3.32862047e-10,  3.14703683e-10,\n",
       "         3.99438101e-10,  2.93450430e-10, -1.05603735e-11,  8.41521887e-10,\n",
       "        -1.00977129e-08, -6.25717927e-08, -8.16767619e-09]),\n",
       " 532.7090128560762,\n",
       " array([ 7.03090777e-10,  2.48022343e-09,  1.10996148e-08,  4.12322724e-09,\n",
       "         5.01150189e-09,  5.21353858e-09,  2.11410258e-08,  5.65974706e-11,\n",
       "         2.13126696e-10,  1.57935747e-09,  4.40024036e-10,  4.16019747e-10,\n",
       "         5.28033662e-10,  3.87924199e-10, -1.39601922e-11,  1.11244241e-09,\n",
       "        -1.33485821e-08, -8.27162275e-08, -1.07971872e-08]),\n",
       " 532.7090120798441,\n",
       " array([ 9.29444628e-10,  3.27870940e-09,  1.46730375e-08,  5.45066374e-09,\n",
       "         6.62491056e-09,  6.89199117e-09,  2.79471919e-08,  7.48185252e-11,\n",
       "         2.81740949e-10,  2.08781763e-09,  5.81685878e-10,  5.49953622e-10,\n",
       "         6.98029424e-10,  5.12812961e-10, -1.84545525e-11,  1.47058340e-09,\n",
       "        -1.76460398e-08, -1.09345985e-07, -1.42732460e-08]),\n",
       " 532.7090110537109,\n",
       " array([ 1.22867110e-09,  4.33426087e-09,  1.93968920e-08,  7.20545667e-09,\n",
       "         8.75774186e-09,  9.11080671e-09,  3.69445428e-08,  9.89056869e-11,\n",
       "         3.72444953e-10,  2.75997203e-09,  7.68954497e-10,  7.27006321e-10,\n",
       "         9.22753817e-10,  6.77908553e-10, -2.43958322e-11,  1.94402470e-09,\n",
       "        -2.33270260e-08, -1.44548957e-07, -1.88683910e-08]),\n",
       " 532.7090096972233,\n",
       " array([ 1.62423088e-09,  5.72963777e-09,  2.56415497e-08,  9.52518965e-09,\n",
       "         1.15772193e-08,  1.20439503e-08,  4.88385113e-08,  1.30747497e-10,\n",
       "         4.92350308e-10,  3.64852058e-09,  1.01651259e-09,  9.61059569e-10,\n",
       "         1.21982624e-09,  8.96155211e-10, -3.22498543e-11,  2.56988625e-09,\n",
       "        -3.08369554e-08, -1.91085214e-07, -2.49429023e-08]),\n",
       " 532.7090079040265,\n",
       " array([ 2.14713763e-09,  7.57424392e-09,  3.38966195e-08,  1.25917401e-08,\n",
       "         1.53044025e-08,  1.59213934e-08,  6.45616374e-08,  1.72840496e-10,\n",
       "         6.50858130e-10,  4.82312948e-09,  1.34376981e-09,  1.27046419e-09,\n",
       "         1.61253849e-09,  1.18466445e-09, -4.26324091e-11,  3.39723838e-09,\n",
       "        -4.07646398e-08, -2.52603407e-07, -3.29730485e-08]),\n",
       " 532.7090055335259,\n",
       " array([ 2.83838957e-09,  1.00127047e-08,  4.48093359e-08,  1.66455393e-08,\n",
       "         2.02315194e-08,  2.10471450e-08,  8.53466848e-08,  2.28484963e-10,\n",
       "         8.60396140e-10,  6.37589329e-09,  1.77638460e-09,  1.67947888e-09,\n",
       "         2.13168098e-09,  1.56605668e-09, -5.63575354e-11,  4.49094921e-09,\n",
       "        -5.38884540e-08, -3.33926838e-07, -4.35884290e-08]),\n",
       " 532.7090023998636,\n",
       " array([ 3.75218394e-09,  1.32362062e-08,  5.92353046e-08,  2.20044232e-08,\n",
       "         2.67448778e-08,  2.78230869e-08,  1.12823294e-07,  3.02043672e-10,\n",
       "         1.13739306e-09,  8.42855566e-09,  2.34827589e-09,  2.22017223e-09,\n",
       "         2.81795678e-09,  2.07023475e-09, -7.45013442e-11,  5.93677055e-09,\n",
       "        -7.12373634e-08, -4.41431627e-07, -5.76213367e-08]),\n",
       " 532.7089982573465,\n",
       " array([ 4.96016632e-09,  1.74974856e-08,  7.83055860e-08,  2.90885523e-08,\n",
       "         3.53551543e-08,  3.67804832e-08,  1.49145753e-07,  3.99283956e-10,\n",
       "         1.50356667e-09,  1.11420545e-08,  3.10428251e-09,  2.93493700e-09,\n",
       "         3.72517300e-09,  2.73672850e-09, -9.84863909e-11,  7.84806128e-09,\n",
       "        -9.41715998e-08, -5.83546632e-07, -7.61720139e-08]),\n",
       " 532.7089927811828,\n",
       " array([ 6.55704789e-09,  2.31306460e-08,  1.03515375e-07,  3.84533539e-08,\n",
       "         4.67374329e-08,  4.86216339e-08,  1.97161906e-07,  5.27829886e-10,\n",
       "         1.98762663e-09,  1.47291401e-08,  4.10367874e-09,  3.87981396e-09,\n",
       "         4.92445943e-09,  3.61779400e-09, -1.30193210e-10,  1.03746751e-08,\n",
       "        -1.24489309e-07, -7.71414304e-07, -1.00694916e-07]),\n",
       " 532.7089855420169,\n",
       " array([ 8.66803132e-09,  3.05773524e-08,  1.36841232e-07,  5.08330703e-08,\n",
       "         6.17841350e-08,  6.42749378e-08,  2.60636433e-07,  6.97760036e-10,\n",
       "         2.62752540e-09,  1.94710562e-08,  5.42482172e-09,  5.12888566e-09,\n",
       "         6.50984547e-09,  4.78251072e-09, -1.72107757e-10,  1.37147100e-08,\n",
       "        -1.64567533e-07, -1.01976431e-06, -1.33112746e-07]),\n",
       " 532.7089759722658,\n",
       " array([ 1.14586271e-08,  4.04214598e-08,  1.80896052e-07,  6.71983263e-08,\n",
       "         8.16749891e-08,  8.49676840e-08,  3.44546020e-07,  9.22397688e-10,\n",
       "         3.47343389e-09,  2.57395900e-08,  7.17129494e-09,  6.78008489e-09,\n",
       "         8.60563246e-09,  6.32219766e-09, -2.27516317e-10,  1.81300395e-08,\n",
       "        -2.17548582e-07, -1.34806840e-06, -1.75967206e-07]),\n",
       " 532.7089633216184,\n",
       " array([ 1.51476303e-08,  5.34347899e-08,  2.39133930e-07,  8.88322308e-08,\n",
       "         1.07969527e-07,  1.12322276e-07,  4.55469550e-07,  1.21935543e-09,\n",
       "         4.59167509e-09,  3.40262225e-08,  9.48002966e-09,  8.96287302e-09,\n",
       "         1.13761394e-08,  8.35757313e-09, -3.00763167e-10,  2.39668452e-08,\n",
       "        -2.87586401e-07, -1.78206708e-06, -2.32618271e-07]),\n",
       " 532.708946598208,\n",
       " array([ 2.00242752e-08,  7.06376458e-08,  3.16120972e-07,  1.17430978e-07,\n",
       "         1.42729356e-07,  1.48483435e-07,  6.02103921e-07,  1.61191607e-09,\n",
       "         6.06992407e-09,  4.49806623e-08,  1.25320409e-08,  1.18483903e-08,\n",
       "         1.50385864e-08,  1.10482197e-08, -3.97591181e-10,  3.16827588e-08,\n",
       "        -3.80172260e-07, -2.35578780e-06, -3.07507630e-07]),\n",
       " 532.7089244908449,\n",
       " array([ 2.64709124e-08,  9.33788075e-08,  4.17893304e-07,  1.55236836e-07,\n",
       "         1.88679803e-07,  1.96286356e-07,  7.95945915e-07,  2.13085810e-09,\n",
       "         8.02408209e-09,  5.94617862e-08,  1.65666200e-08,  1.56628741e-08,\n",
       "         1.98801254e-08,  1.46050959e-08, -5.25592099e-10,  4.18827426e-08,\n",
       "        -5.02565290e-07, -3.11421282e-06, -4.06506931e-07]),\n",
       " 532.7088952662144,\n",
       " array([ 3.49929866e-08,  1.23441283e-07,  5.52430324e-07,  2.05213952e-07,\n",
       "         2.49423583e-07,  2.59479000e-07,  1.05219360e-06,  2.81686885e-09,\n",
       "         1.06073638e-08,  7.86049782e-08,  2.19000955e-08,  2.07053968e-08,\n",
       "         2.62803544e-08,  1.93070767e-08, -6.94801745e-10,  5.53665208e-08,\n",
       "        -6.64361625e-07, -4.11680605e-06, -5.37378136e-07]),\n",
       " 532.7088566329771,\n",
       " array([ 4.62586658e-08,  1.63182101e-07,  7.30280325e-07,  2.71280751e-07,\n",
       "         3.29723278e-07,  3.43015947e-07,  1.39093791e-06,  3.72373459e-09,\n",
       "         1.40223097e-08,  1.03911148e-07,  2.89506355e-08,  2.73713143e-08,\n",
       "         3.47410796e-08,  2.55228183e-08, -9.18486881e-10,  7.31912821e-08,\n",
       "        -8.78246774e-07, -5.44217528e-06, -7.10382091e-07]),\n",
       " 532.7088055621185,\n",
       " array([ 6.11512285e-08,  2.15717118e-07,  9.65387520e-07,  3.58617157e-07,\n",
       "         4.35874733e-07,  4.53446862e-07,  1.83873788e-06,  4.92255753e-09,\n",
       "         1.85366666e-08,  1.37364411e-07,  3.82710330e-08,  3.61832636e-08,\n",
       "         4.59256586e-08,  3.37396621e-08, -1.21418537e-09,  9.67545675e-08,\n",
       "        -1.16099021e-06, -7.19423537e-06, -9.39083002e-07]),\n",
       " 532.708738049462,\n",
       " array([ 8.08383158e-08,  2.85165306e-07,  1.27618533e-06,  4.74070725e-07,\n",
       "         5.76200683e-07,  5.99430007e-07,  2.43070295e-06,  6.50733056e-09,\n",
       "         2.45043795e-08,  1.81587647e-07,  5.05920475e-08,  4.78321396e-08,\n",
       "         6.07110107e-08,  4.46018450e-08, -1.60508118e-09,  1.27903844e-07,\n",
       "        -1.53476013e-06, -9.51035565e-06, -1.24141191e-06]),\n",
       " 532.7086488017262,\n",
       " array([ 1.06863480e-07,  3.76971701e-07,  1.68704162e-06,  6.26693508e-07,\n",
       "         7.61703284e-07,  7.92411090e-07,  3.21324570e-06,  8.60230665e-09,\n",
       "         3.23933426e-08,  2.40048147e-07,  6.68796992e-08,  6.32312642e-08,\n",
       "         8.02563709e-08,  5.89610094e-08, -2.12182214e-09,  1.69081354e-07,\n",
       "        -2.02886153e-06, -1.25721303e-05, -1.64107253e-06]),\n",
       " 532.7085308215115,\n",
       " array([ 1.41267202e-07,  4.98334315e-07,  2.23016925e-06,  8.28451778e-07,\n",
       "         1.00692672e-06,  1.04752065e-06,  4.24772075e-06,  1.13717407e-08,\n",
       "         4.28220839e-08,  3.17329462e-07,  8.84110085e-08,  8.35879935e-08,\n",
       "         1.06094177e-07,  7.79429761e-08, -2.80492273e-09,  2.23515599e-07,\n",
       "        -2.68203371e-06, -1.66196160e-05, -2.16939962e-06]),\n",
       " 532.7083748586806,\n",
       " array([ 1.86746878e-07,  6.58768482e-07,  2.94815165e-06,  1.09516422e-06,\n",
       "         1.33109754e-06,  1.38476034e-06,  5.61523518e-06,  1.50327678e-08,\n",
       "         5.66082596e-08,  4.19490764e-07,  1.16874119e-07,  1.10498379e-07,\n",
       "         1.40250221e-07,  1.03036013e-07, -3.70794057e-09,  2.95474468e-07,\n",
       "        -3.54548753e-06, -2.19701536e-05, -2.86781569e-06]),\n",
       " 532.7081686851182,\n",
       " array([ 2.46868295e-07,  8.70852893e-07,  3.89728149e-06,  1.44774216e-06,\n",
       "         1.75963203e-06,  1.83057113e-06,  7.42300751e-06,  1.98724269e-08,\n",
       "         7.48327614e-08,  5.54541913e-07,  1.54500652e-07,  1.46072305e-07,\n",
       "         1.85402472e-07,  1.36207520e-07, -4.90167536e-09,  3.90599856e-07,\n",
       "        -4.68692029e-06, -2.90432490e-05, -3.79107844e-06]),\n",
       " 532.7078961360146,\n",
       " array([ 3.26345204e-07,  1.15121580e-06,  5.15197417e-06,  1.91382909e-06,\n",
       "         2.32612898e-06,  2.41990634e-06,  9.81277395e-06,  2.62701660e-08,\n",
       "         9.89244604e-08,  7.33071442e-07,  2.04240674e-07,  1.93098902e-07,\n",
       "         2.45091041e-07,  1.80058280e-07, -6.47971961e-09,  5.16350021e-07,\n",
       "        -6.19582306e-06, -3.83934640e-05, -5.01157363e-06]),\n",
       " 532.7075358425104,\n",
       " array([ 4.31408887e-07,  1.52183871e-06,  6.81060211e-06,  2.52996795e-06,\n",
       "         3.07500384e-06,  3.19897211e-06,  1.29719007e-05,  3.47275910e-08,\n",
       "         1.30772234e-07,  9.69076724e-07,  2.69993985e-07,  2.55265232e-07,\n",
       "         3.23995730e-07,  2.38026372e-07, -8.56579621e-09,  6.82584338e-07,\n",
       "        -8.19049643e-06, -5.07538966e-05, -6.62498973e-06]),\n",
       " 532.7070595563501,\n",
       " array([ 5.70296694e-07,  2.01177977e-06,  9.00320724e-06,  3.34446616e-06,\n",
       "         4.06497102e-06,  4.22884995e-06,  1.71480737e-05,  4.59077922e-08,\n",
       "         1.72873057e-07,  1.28106139e-06,  3.56915868e-07,  3.37445346e-07,\n",
       "         4.28302935e-07,  3.14656719e-07, -1.13234579e-08,  9.02336319e-07,\n",
       "        -1.08273245e-05, -6.70936586e-05, -8.75781917e-06]),\n",
       " 532.706429935209,\n",
       " array([ 7.53897851e-07,  2.65945194e-06,  1.19016963e-05,  4.42118294e-06,\n",
       "         5.37364707e-06,  5.59028568e-06,  2.26687170e-05,  6.06873309e-08,\n",
       "         2.28527761e-07,  1.69348599e-06,  4.71821263e-07,  4.46082420e-07,\n",
       "         5.66190656e-07,  4.15957427e-07, -1.49689089e-08,  1.19283550e-06,\n",
       "        -1.43130338e-05, -8.86938579e-05, -1.15772737e-05]),\n",
       " 532.7055976150943,\n",
       " array([ 9.96607167e-07,  3.51563455e-06,  1.57333178e-05,  5.84453578e-06,\n",
       "         7.10363574e-06,  7.39001979e-06,  2.99666620e-05,  8.02249598e-08,\n",
       "         3.02099821e-07,  2.23868572e-06,  6.23719054e-07,  5.89693890e-07,\n",
       "         7.48469648e-07,  5.49870822e-07, -1.97879538e-08,  1.57685832e-06,\n",
       "        -1.89208976e-05, -1.17248043e-04, -1.53043909e-05]),\n",
       " 532.7044973403454,\n",
       " array([ 1.31745353e-06,  4.64745428e-06,  2.07984779e-05,  7.72611859e-06,\n",
       "         9.39057190e-06,  9.76915574e-06,  3.96140802e-05,  1.06052466e-07,\n",
       "         3.99357432e-07,  2.95940537e-06,  8.24518328e-07,  7.79539190e-07,\n",
       "         9.89430942e-07,  7.26896139e-07, -2.61584005e-08,  2.08451388e-06,\n",
       "        -2.50121544e-05, -1.54994981e-04, -2.02313580e-05]),\n",
       " 532.7030428479253,\n",
       " array([ 1.74159169e-06,  6.14364760e-06,  2.74942898e-05,  1.02134501e-05,\n",
       "         1.24137546e-05,  1.29142218e-05,  5.23673369e-05,  1.40194752e-07,\n",
       "         5.27925710e-07,  3.91215029e-06,  1.08996199e-06,  1.03050244e-06,\n",
       "         1.30796618e-06,  9.60912647e-07, -3.45796740e-08,  2.75560463e-06,\n",
       "        -3.30643188e-05, -2.04894190e-04, -2.67444094e-05]),\n",
       " 532.7011201051095,\n",
       " array([ 2.30227412e-06,  8.12151706e-06,  3.63457037e-05,  1.35015379e-05,\n",
       "         1.64102027e-05,  1.70717939e-05,  6.92262828e-05,  1.85328571e-07,\n",
       "         6.97884424e-07,  5.17161594e-06,  1.44086086e-06,  1.36225921e-06,\n",
       "         1.72904856e-06,  1.27026775e-06, -4.57119584e-08,  3.64274708e-06,\n",
       "        -4.37085989e-05, -2.70857966e-04, -3.53540891e-05]),\n",
       " 532.6985783707242,\n",
       " array([ 3.04345761e-06,  1.07361265e-05,  4.80466554e-05,  1.78481651e-05,\n",
       "         2.16932342e-05,  2.25678240e-05,  9.15126267e-05,  2.44992345e-07,\n",
       "         9.22558127e-07,  6.83654308e-06,  1.90472497e-06,  1.80081889e-06,\n",
       "         2.28569039e-06,  1.67921533e-06, -6.04279324e-08,  4.81549714e-06,\n",
       "        -5.77793485e-05, -3.58058125e-04, -4.67352457e-05]),\n",
       " 532.6952183797129,\n",
       " array([ 4.02324864e-06,  1.41924556e-05,  6.35144561e-05,  2.35940957e-05,\n",
       "         2.86770252e-05,  2.98331904e-05,  1.20973529e-04,  3.23863506e-07,\n",
       "         1.21956054e-06,  9.03745722e-06,  2.51791983e-06,  2.38056327e-06,\n",
       "         3.02153061e-06,  2.21981706e-06, -7.98811457e-08,  6.36580361e-06,\n",
       "        -7.63794184e-05, -4.73331480e-04, -6.17798821e-05]),\n",
       " 532.6907767257123,\n",
       " array([ 5.31845737e-06,  1.87614657e-05,  8.39616833e-05,  3.11897818e-05,\n",
       "         3.79090709e-05,  3.94374691e-05,  1.59918527e-04,  4.28125078e-07,\n",
       "         1.61217502e-06,  1.19468985e-05,  3.32851651e-06,  3.14694127e-06,\n",
       "         3.99425493e-06,  2.93445566e-06, -1.05596383e-07,  8.41521736e-06,\n",
       "        -1.00966510e-04, -6.25715856e-04, -8.16669877e-05]),\n",
       " 532.684905219038,\n",
       " array([ 7.03061677e-06,  2.48013343e-05,  1.10991199e-04,  4.12306644e-05,\n",
       "         5.01130912e-05,  5.21335712e-05,  2.11400506e-04,  5.65950185e-07,\n",
       "         2.13117909e-06,  1.57929428e-05,  4.40005869e-06,  4.16003049e-06,\n",
       "         5.28011629e-06,  3.87915699e-06, -1.39589075e-07,  1.11244215e-05,\n",
       "        -1.33467265e-04, -8.27158656e-04, -1.07954792e-04]),\n",
       " 532.6771436049164,\n",
       " array([ 9.29393776e-06,  3.27855212e-05,  1.46721726e-04,  5.45038274e-05,\n",
       "         6.62457369e-05,  6.89167408e-05,  2.79454877e-04,  7.48142401e-07,\n",
       "         2.81725593e-06,  2.08770720e-05,  5.81654132e-06,  5.49924441e-06,\n",
       "         6.97990922e-06,  5.12798107e-06, -1.84523074e-07,  1.47058293e-05,\n",
       "        -1.76427971e-04, -1.09345352e-03, -1.42702612e-04]),\n",
       " 532.6668835086643,\n",
       " array([ 1.22858223e-05,  4.33398602e-05,  1.93953806e-04,  7.20496563e-05,\n",
       "         8.75715318e-05,  9.11025259e-05,  3.69415649e-04,  9.88981988e-07,\n",
       "         3.72418119e-06,  2.75977906e-05,  7.68899020e-06,  7.26955327e-06,\n",
       "         9.22686535e-06,  6.77882596e-06, -2.43919090e-07,  1.94402389e-05,\n",
       "        -2.33213594e-04, -1.44547852e-03, -1.88631751e-04]),\n",
       " 532.6533207909297,\n",
       " array([ 1.62407559e-05,  5.72915749e-05,  2.56389084e-04,  9.52433156e-05,\n",
       "         1.15761906e-04,  1.20429819e-04,  4.88333073e-04,  1.30734412e-06,\n",
       "         4.92303416e-06,  3.64818338e-05,  1.01641564e-05,  9.60970457e-06,\n",
       "         1.21970866e-05,  8.96109851e-06, -3.22429986e-07,  2.56988483e-05,\n",
       "        -3.08270531e-04, -1.91083282e-03, -2.49337876e-04]),\n",
       " 532.6353925948633,\n",
       " array([ 2.14686626e-05,  7.57340463e-05,  3.38920040e-04,  1.25902406e-04,\n",
       "         1.53026049e-04,  1.59197013e-04,  6.45525436e-04,  1.72817630e-06,\n",
       "         6.50776187e-06,  4.82254022e-05,  1.34360041e-05,  1.27030847e-05,\n",
       "         1.61233303e-05,  1.18458518e-05, -4.26204292e-07,  3.39723589e-05,\n",
       "        -4.07473358e-04, -2.52600032e-03, -3.29571209e-04]),\n",
       " 532.6116941798865,\n",
       " array([ 2.83791536e-05,  1.00112380e-04,  4.48012705e-04,  1.66429190e-04,\n",
       "         2.02283781e-04,  2.10441881e-04,  8.53307937e-04,  2.28445005e-06,\n",
       "         8.60252948e-06,  6.37486360e-05,  1.77608857e-05,  1.67920676e-05,\n",
       "         2.13132195e-05,  1.56591816e-05, -5.63366017e-07,  4.49094483e-05,\n",
       "        -5.38582163e-04, -3.33920939e-03, -4.35605964e-04]),\n",
       " 532.580369074635,\n",
       " array([ 3.75135530e-05,  1.32336434e-04,  5.92212109e-04,  2.19998444e-04,\n",
       "         2.67393886e-04,  2.78179199e-04,  1.12795525e-03,  3.01973849e-06,\n",
       "         1.13714284e-05,  8.42675634e-05,  2.34775859e-05,  2.21969672e-05,\n",
       "         2.81732940e-05,  2.06999271e-05, -7.44647656e-07,  5.93676285e-05,\n",
       "        -7.11845257e-04, -4.41421319e-03, -5.75727016e-04]),\n",
       " 532.5389640294719,\n",
       " array([ 4.95871834e-05,  1.74930072e-04,  7.82809585e-04,  2.90805512e-04,\n",
       "         3.53455623e-04,  3.67714543e-04,  1.49097231e-03,  3.99161946e-06,\n",
       "         1.50312944e-05,  1.11389103e-04,  3.10337858e-05,  2.93410611e-05,\n",
       "         3.72407671e-05,  2.73630554e-05, -9.84224770e-07,  7.84804771e-05,\n",
       "        -9.40792721e-04, -5.83528618e-03, -7.60870300e-04]),\n",
       " 532.4842375584043,\n",
       " array([ 6.55451773e-05,  2.31228207e-04,  1.03472342e-03,  3.84393730e-04,\n",
       "         4.67206721e-04,  4.86058570e-04,  1.97077120e-03,  5.27616690e-06,\n",
       "         1.98686263e-05,  1.47236462e-04,  4.10209925e-05,  3.87836208e-05,\n",
       "         4.92254381e-05,  3.61705493e-05, -1.30081538e-06,  1.03746511e-04,\n",
       "        -1.24327981e-03, -7.71382823e-03, -1.00546421e-03]),\n",
       " 532.4119073424058,\n",
       " array([ 8.66361029e-05,  3.05636790e-04,  1.36766039e-03,  5.08086410e-04,\n",
       "         6.17548485e-04,  6.42473705e-04,  2.60488285e-03,  6.97387517e-06,\n",
       "         2.62619044e-05,  1.94614566e-04,  5.42206186e-05,  5.12634877e-05,\n",
       "         6.50649829e-05,  4.78121931e-05, -1.71912650e-06,  1.37146674e-04,\n",
       "        -1.64285650e-03, -1.01970929e-02, -1.32853286e-03]),\n",
       " 532.3163171836325,\n",
       " array([ 1.14509024e-04,  4.03975687e-04,  1.80764671e-03,  6.71556420e-04,\n",
       "         8.16238180e-04,  8.49195167e-04,  3.44287169e-03,  9.21746806e-06,\n",
       "         3.47110139e-05,  2.57228171e-04,  7.16647279e-05,  6.77565232e-05,\n",
       "         8.59978412e-05,  6.31994119e-05, -2.27175465e-06,  1.81299636e-04,\n",
       "        -2.17056079e-03, -1.34797225e-02, -1.75513882e-03]),\n",
       " 532.1899982603419,\n",
       " array([ 1.51341339e-04,  5.33930479e-04,  2.38904385e-03,  8.87576538e-04,\n",
       "         1.07880122e-03,  1.12238119e-03,  4.55017300e-03,  1.21821824e-05,\n",
       "         4.58759986e-05,  3.39969176e-04,  9.47160464e-05,  8.95512865e-05,\n",
       "         1.13659215e-04,  8.35363060e-05, -3.00167754e-06,  2.39667092e-04,\n",
       "        -2.86725960e-03, -1.78189905e-02, -2.31826282e-03]),\n",
       " 532.0230917859557,\n",
       " array([ 2.00006961e-04,  7.05647197e-04,  3.15719946e-03,  1.17300687e-03,\n",
       "         1.42573162e-03,  1.48336408e-03,  6.01313831e-03,  1.60992937e-05,\n",
       "         6.06280451e-05,  4.49294659e-04,  1.25173222e-04,  1.18348607e-04,\n",
       "         1.50207353e-04,  1.10413316e-04, -3.96551222e-06,  3.16825134e-04,\n",
       "        -3.78669124e-03, -2.35549413e-02, -3.06124087e-03]),\n",
       " 531.802590424597,\n",
       " array([ 2.64297217e-04,  9.32514116e-04,  4.17192755e-03,  1.55009230e-03,\n",
       "         1.88406945e-03,  1.96029514e-03,  7.94565742e-03,  2.12738759e-05,\n",
       "         8.01164515e-05,  5.93723528e-04,  1.65409082e-04,  1.56392396e-04,\n",
       "         1.98489420e-04,  1.45930626e-04, -5.23775994e-06,  4.18822956e-04,\n",
       "        -4.99939694e-03, -3.11369954e-02, -4.04090257e-03]),\n",
       " 531.511343543825,\n",
       " array([ 3.49210379e-04,  1.23218758e-03,  5.51206683e-03,  2.04816388e-03,\n",
       "         2.48946983e-03,  2.59030372e-03,  1.04978293e-02,  2.81080706e-05,\n",
       "         1.05856407e-04,  7.84487686e-04,  2.18551858e-04,  2.06641153e-04,\n",
       "         2.62258877e-04,  1.92860569e-04, -6.91630941e-06,  5.53656980e-04,\n",
       "        -6.59776038e-03, -4.11590892e-02, -5.33157486e-03]),\n",
       " 531.1267562326614,\n",
       " array([ 4.61330104e-04,  1.62793470e-03,  7.28143337e-03,  2.70586423e-03,\n",
       "         3.28890926e-03,  3.42232443e-03,  1.38672803e-02,  3.71314842e-05,\n",
       "         1.39843729e-04,  1.03638348e-03,  2.88722061e-04,  2.72992212e-04,\n",
       "         3.46459601e-04,  2.54861058e-04, -9.12952481e-06,  7.31897482e-04,\n",
       "        -8.70239596e-03, -5.44060715e-02, -7.03012282e-03]),\n",
       " 530.6190938250232,\n",
       " array([ 6.09318194e-04,  2.15038521e-03,  9.61656207e-03,  3.57404784e-03,\n",
       "         4.34421376e-03,  4.52078787e-03,  1.83138752e-02,  4.90407399e-05,\n",
       "         1.84704285e-04,  1.36888099e-03,  3.81340943e-04,  3.60573882e-04,\n",
       "         4.57595791e-04,  3.36755525e-04, -1.20452922e-05,  9.67516654e-04,\n",
       "        -1.14701189e-02, -7.19149416e-02, -9.26217656e-03]),\n",
       " 529.9492827850846,\n",
       " array([ 8.04553013e-04,  2.83980700e-03,  1.26967198e-02,  4.71954337e-03,\n",
       "         5.73663668e-03,  5.97041841e-03,  2.41787302e-02,  6.47506718e-05,\n",
       "         2.43887591e-04,  1.80756233e-03,  5.03530174e-04,  4.76124209e-04,\n",
       "         6.04211153e-04,  4.44899188e-04, -1.58824224e-05,  1.27898262e-03,\n",
       "        -1.51036595e-02, -9.50556331e-02, -1.21896072e-02]),\n",
       " 529.0660765880049,\n",
       " array([ 1.06195093e-03,  3.74904477e-03,  1.67567600e-02,  6.23000289e-03,\n",
       "         7.57276155e-03,  7.88243654e-03,  3.19085967e-02,  8.54601099e-05,\n",
       "         3.21915983e-04,  2.38597431e-03,  6.64626191e-04,  6.28478806e-04,\n",
       "         7.97505382e-04,  5.87656623e-04, -2.09247719e-05,  1.69070426e-03,\n",
       "        -1.98630876e-02, -1.25637509e-01, -1.60191067e-02]),\n",
       " 527.9024349466421,\n",
       " array([ 1.40101349e-03,  4.94728478e-03,  2.21034584e-02,  8.22009811e-03,\n",
       "         9.99204876e-03,  1.04025164e-02,  4.20868028e-02,  1.12735593e-04,\n",
       "         4.24702334e-04,  3.14799364e-03,  8.76836038e-04,  8.29193574e-04,\n",
       "         1.05211988e-03,  7.76021704e-04, -2.75382926e-05,  2.23493805e-03,\n",
       "        -2.60784824e-02, -1.66049623e-01, -2.10112946e-02]),\n",
       " 526.3709531084146,\n",
       " array([ 1.84714507e-03,  6.52482581e-03,  2.91359782e-02,  1.08393439e-02,\n",
       "         1.31763716e-02,  1.37208907e-02,  5.54719421e-02,  1.48616457e-04,\n",
       "         5.59950084e-04,  4.15081007e-03,  1.15606304e-03,  1.09332994e-03,\n",
       "         1.38712634e-03,  1.02441754e-03, -3.61908426e-05,  2.95430193e-03,\n",
       "        -3.41625255e-02, -2.19445219e-01, -2.74889396e-02]),\n",
       " 524.3581875325326,\n",
       " array([ 2.43328132e-03,  8.59903476e-03,  3.83710012e-02,  1.42818130e-02,\n",
       "         1.73618719e-02,  1.80850012e-02,  7.30452502e-02,  1.95744258e-04,\n",
       "         7.37648015e-04,  5.46862512e-03,  1.52292790e-03,  1.44042823e-03,\n",
       "         1.82724827e-03,  1.35172041e-03, -4.74738449e-05,  3.90508320e-03,\n",
       "        -4.46201103e-02, -2.89984018e-01, -3.58413694e-02]),\n",
       " 521.717777034703,\n",
       " array([ 3.20184951e-03,  1.13216248e-02,  5.04726952e-02,  1.87979172e-02,\n",
       "         2.28533624e-02,  2.38150259e-02,  9.60668725e-02,  2.57517828e-04,\n",
       "         9.70666816e-04,  7.19712830e-03,  2.00399974e-03,  1.89568511e-03,\n",
       "         2.40433166e-03,  1.78255644e-03, -6.21235151e-05,  5.16157727e-03,\n",
       "        -5.80492415e-02, -3.83149669e-01, -4.65194801e-02]),\n",
       " 518.262390681054,\n",
       " array([ 4.20703776e-03,  1.48872795e-02,  6.62868873e-02,  2.47082008e-02,\n",
       "         3.00412391e-02,  3.13223994e-02,  1.26139636e-01,  3.38271471e-04,\n",
       "         1.27545170e-03,  9.45872437e-03,  2.63322490e-03,  2.49132770e-03,\n",
       "         3.15904848e-03,  2.34891979e-03, -8.10371373e-05,  6.82174784e-03,\n",
       "        -7.51227109e-02, -5.06164365e-01, -6.00112752e-02]),\n",
       " 513.7548011473236,\n",
       " array([ 5.51726238e-03,  1.95434059e-02,  8.68772656e-02,  3.24186364e-02,\n",
       "         3.94203298e-02,  4.11309861e-02,  1.65275923e-01,  4.43466482e-04,\n",
       "         1.67278001e-03,  1.24083082e-02,  3.45348920e-03,  3.26812989e-03,\n",
       "         4.14275270e-03,  3.09215229e-03, -1.05276482e-04,  9.01454312e-03,\n",
       "        -9.65322232e-02, -6.68528034e-01, -7.67806213e-02]),\n",
       " 507.89886347249933,\n",
       " array([ 7.21756571e-03,  2.56003535e-02,  1.13558731e-01,  4.24360774e-02,\n",
       "         5.16091270e-02,  5.38997044e-02,  2.15958033e-01,  5.79873341e-04,\n",
       "         2.18850815e-03,  1.62390693e-02,  4.51815680e-03,  4.27693309e-03,\n",
       "         5.41929594e-03,  4.06529920e-03, -1.36046061e-04,  1.19092046e-02,\n",
       "        -1.22864552e-01, -8.82715272e-01, -9.71407733e-02]),\n",
       " 500.3319692853249,\n",
       " array([ 9.41141987e-03,  3.34406928e-02,  1.47918650e-01,  5.53811500e-02,\n",
       "         6.73662497e-02,  7.04439623e-02,  2.81174166e-01,  7.55701365e-04,\n",
       "         2.85415975e-03,  2.11872993e-02,  5.89227955e-03,  5.57989818e-03,\n",
       "         7.06642780e-03,  5.33580470e-03, -1.74629647e-04,  1.57267922e-02,\n",
       "        -1.54361828e-01, -1.16506849e+00, -1.21018318e-01]),\n",
       " 490.621727724446,\n",
       " array([ 1.22210244e-02,  4.35250186e-02,  1.91810319e-01,  7.19937931e-02,\n",
       "         8.75985600e-02,  9.17510752e-02,  3.64400201e-01,  9.80602474e-04,\n",
       "         3.70710135e-03,  2.75344253e-02,  7.65295139e-03,  7.25101717e-03,\n",
       "         9.17613990e-03,  6.98842300e-03, -2.22268173e-04,  2.07537724e-02,\n",
       "        -1.90495388e-01, -1.53692846e+00, -1.47542888e-01]),\n",
       " 478.27118818627054,\n",
       " array([ 1.57846645e-02,  5.63902099e-02,  2.47294447e-01,  9.31238668e-02,\n",
       "         1.13352150e-01,  1.18981903e-01,  4.69482389e-01,  1.26543723e-03,\n",
       "         4.78991564e-03,  3.56035387e-02,  9.88800203e-03,  9.37515809e-03,\n",
       "         1.18529711e-02,  9.12808921e-03, -2.79974606e-04,  2.73565947e-02,\n",
       "        -2.29258586e-01, -2.02603981e+00, -1.74377357e-01]),\n",
       " 462.7386163462514,\n",
       " array([ 2.02491048e-02,  7.26343644e-02,  3.16495368e-01,  1.19696125e-01,\n",
       "         1.45773897e-01,  1.53447701e-01,  6.00361206e-01,  1.62165202e-03,\n",
       "         6.14844398e-03,  4.57467215e-02,  1.26919377e-02,  1.20446589e-02,\n",
       "         1.52089447e-02,  1.18823236e-02, -3.48324395e-04,  3.59942469e-02,\n",
       "        -2.66070339e-01, -2.66825208e+00, -1.96693869e-01]),\n",
       " 443.4789435345336,\n",
       " array([ 2.57545454e-02,  9.28813604e-02,  4.01332778e-01,  1.52636553e-01,\n",
       "         1.86028903e-01,  1.96548976e-01,  7.60570478e-01,  2.06009705e-03,\n",
       "         7.82790295e-03,  5.83190371e-02,  1.61578995e-02,  1.53523647e-02,\n",
       "         1.93536395e-02,  1.54025706e-02, -4.27361443e-04,  4.72221622e-02,\n",
       "        -2.92203211e-01, -3.50949501e+00, -2.05727837e-01]),\n",
       " 420.01313534447286,\n",
       " array([ 3.24097753e-02,  1.17718502e-01,  5.03094714e-01,  1.92747989e-01,\n",
       "         2.35160779e-01,  2.49664533e-01,  9.52463920e-01,  2.58915271e-03,\n",
       "         9.86661761e-03,  7.36361157e-02,  2.03646975e-02,  1.93802749e-02,\n",
       "         2.43782458e-02,  1.98637775e-02, -5.16950287e-04,  6.16749128e-02,\n",
       "        -2.92749738e-01, -4.60792318e+00, -1.86945916e-01]),\n",
       " 392.0269151884696,\n",
       " array([ 4.02564571e-02,  1.47604901e-01,  6.21843852e-01,  2.40530444e-01,\n",
       "         2.93891370e-01,  3.13987667e-01,  1.17618308e+00,  3.21217792e-03,\n",
       "         1.22874372e-02,  9.19161132e-02,  2.53590641e-02,  2.41839682e-02,\n",
       "         3.03337586e-02,  2.54616222e-02, -6.18187990e-04,  8.00069920e-02,\n",
       "        -2.44369350e-01, -6.03597936e+00, -1.18094569e-01]),\n",
       " 359.4899686144688,\n",
       " array([ 4.92245289e-02,  1.82757903e-01,  7.55705629e-01,  2.95958888e-01,\n",
       "         3.62377662e-01,  3.90325562e-01,  1.42849860e+00,  3.92457870e-03,\n",
       "         1.50879232e-02,  1.13214289e-01,  3.11353925e-02,  2.97749285e-02,\n",
       "         3.72060116e-02,  3.24072024e-02, -7.36768156e-04,  1.02763053e-01,\n",
       "        -1.13439989e-01, -7.88189983e+00,  3.22226317e-02]),\n",
       " 322.7718586761154,\n",
       " array([ 5.90854359e-02,  2.23039761e-01,  9.00168840e-01,  3.58257646e-01,\n",
       "         4.39974700e-01,  4.78905908e-01,  1.70181004e+00,  4.71117676e-03,\n",
       "         1.82317721e-02,  1.37368381e-01,  3.76180766e-02,  3.61055019e-02,\n",
       "         4.48936277e-02,  4.09196367e-02, -8.89173877e-04,  1.30147905e-01,\n",
       "         1.44299439e-01, -1.02498795e+01,  3.04327172e-01]),\n",
       " 282.71712157513605,\n",
       " array([ 6.94148130e-02,  2.67882257e-01,  1.04760691e+00,  4.25737659e-01,\n",
       "         5.25083322e-01,  5.79260759e-01,  1.98370301e+00,  5.54485528e-03,\n",
       "         2.16450230e-02,  1.63980657e-01,  4.46538139e-02,  4.30632529e-02,\n",
       "         5.31975404e-02,  5.12175238e-02, -1.11175515e-03,  1.61683536e-01,\n",
       "         5.81233162e-01, -1.32577687e+01,  7.44185053e-01]),\n",
       " 240.6395832181741,\n",
       " array([ 7.95783249e-02,  3.16293863e-01,  1.18724581e+00,  4.95773555e-01,\n",
       "         6.15169623e-01,  6.90261871e-01,  2.25741822e+00,  6.38738743e-03,\n",
       "         2.52203760e-02,  1.92460485e-01,  5.20207672e-02,  5.04810013e-02,\n",
       "         6.18299102e-02,  6.35098715e-02, -1.47062661e-03,  1.95785945e-01,\n",
       "         1.25137064e+00, -1.70308885e+01,  1.39587572e+00]),\n",
       " 198.21349177128286,\n",
       " array([ 8.87505625e-02,  3.66982785e-01,  1.30571455e+00,  5.64974763e-01,\n",
       "         7.07010884e-01,  8.10346053e-01,  2.50331069e+00,  7.19271360e-03,\n",
       "         2.88307093e-02,  2.22134144e-01,  5.94567970e-02,  5.81644398e-02,\n",
       "         7.04442252e-02,  7.79854539e-02, -2.06706019e-03,  2.29365497e-01,\n",
       "         2.19995208e+00, -2.16905059e+01,  2.28974808e+00]),\n",
       " 157.27411476438488,\n",
       " array([ 9.59667815e-02,  4.18598612e-01,  1.38812788e+00,  6.29547147e-01,\n",
       "         7.97153029e-01,  9.37895515e-01,  2.70095167e+00,  7.91189684e-03,\n",
       "         3.23492122e-02,  2.52400641e-01,  6.67012799e-02,  6.59320902e-02,\n",
       "         7.86786960e-02,  9.47970330e-02, -3.03016690e-03,  2.57620710e-01,\n",
       "         3.45126562e+00, -2.73359695e+01,  3.42815342e+00]),\n",
       " 119.57599432272036,\n",
       " array([ 1.00194616e-01,  4.70056908e-01,  1.41946184e+00,  6.85771724e-01,\n",
       "         8.82490657e-01,  1.07165839e+00,  2.83120499e+00,  8.49813652e-03,\n",
       "         3.56705213e-02,  2.82888729e-01,  7.35386124e-02,  7.36564435e-02,\n",
       "         8.61971166e-02,  1.14035330e-01, -4.48895190e-03,  2.74203423e-01,\n",
       "         4.99884291e+00, -3.40208241e+01,  4.77269292e+00]),\n",
       " 86.57230393896793,\n",
       " array([ 1.00403741e-01,  5.20883697e-01,  1.38590974e+00,  7.30481047e-01,\n",
       "         9.60845116e-01,  1.21105399e+00,  2.87763973e+00,  8.91015482e-03,\n",
       "         3.87269887e-02,  3.13567243e-01,  7.98308360e-02,  8.12945654e-02,\n",
       "         9.27108553e-02,  1.35689504e-01, -6.52168189e-03,  2.71841598e-01,\n",
       "         6.80301522e+00, -4.17256910e+01,  6.23785328e+00]),\n",
       " 59.266282412390524,\n",
       " array([ 9.56098615e-02,  5.71512710e-01,  1.27599139e+00,  7.61416371e-01,\n",
       "         1.03143601e+00,  1.35623436e+00,  2.82702802e+00,  9.11304725e-03,\n",
       "         4.14969469e-02,  3.44780414e-01,  8.55325127e-02,  8.89017077e-02,\n",
       "         9.79735104e-02,  1.59597515e-01, -9.09134757e-03,  2.43330093e-01,\n",
       "         8.79934031e+00, -5.03341118e+01,  7.69471591e+00]),\n",
       " 38.15669855292981,\n",
       " array([ 8.48753335e-02,  6.23486337e-01,  1.08134803e+00,  7.77396315e-01,\n",
       "         1.09519155e+00,  1.50786171e+00,  2.66916001e+00,  9.07674837e-03,\n",
       "         4.40056036e-02,  3.77207369e-01,  9.06890677e-02,  9.66286619e-02,\n",
       "         1.01751367e-01,  1.85399491e-01, -1.19870027e-02,  1.82626287e-01,\n",
       "         1.09176513e+01, -5.96205240e+01,  8.98507019e+00]),\n",
       " 23.271336293257264,\n",
       " array([ 6.72592162e-02,  6.79540104e-01,  7.97254184e-01,  7.78295880e-01,\n",
       "         1.15487856e+00,  1.66667834e+00,  2.39650006e+00,  8.77294946e-03,\n",
       "         4.63216233e-02,  4.11762275e-01,  9.54254208e-02,  1.04708001e-01,\n",
       "         1.03782077e-01,  2.12515249e-01, -1.47948293e-02,  8.57247196e-02,\n",
       "         1.31068342e+01, -6.92594493e+01,  9.94204211e+00]),\n",
       " 14.265121521408219,\n",
       " array([ 4.17220731e-02,  7.43578098e-01,  4.22860458e-01,  7.64894316e-01,\n",
       "         1.21502989e+00,  1.83304398e+00,  2.00420952e+00,  8.17138380e-03,\n",
       "         4.85526355e-02,  4.49452166e-01,  9.99329092e-02,  1.13434208e-01,\n",
       "         1.03737881e-01,  2.40166886e-01, -1.69153854e-02, -4.89167926e-02,\n",
       "         1.53572258e+01, -7.88595880e+01,  1.04104907e+01]),\n",
       " 10.552034625582792,\n",
       " array([ 7.00383979e-03,  8.20564891e-01, -3.88594981e-02,  7.38680677e-01,\n",
       "         1.28162513e+00,  2.00664786e+00,  1.49086008e+00,  7.23608148e-03,\n",
       "         5.08415330e-02,  4.91202478e-01,  1.04460565e-01,  1.23139775e-01,\n",
       "         1.01208471e-01,  2.67454977e-01, -1.76268498e-02, -2.20421452e-01,\n",
       "         1.77126455e+01, -8.80167876e+01,  1.02608286e+01]),\n",
       " 11.43897992134157,\n",
       " array([-3.84940081e-02,  9.16364147e-01, -5.81408522e-01,  7.01694476e-01,\n",
       "         1.36148066e+00,  2.18653314e+00,  8.59874244e-01,  5.92181502e-03,\n",
       "         5.33636529e-02,  5.37659959e-01,  1.09313990e-01,  1.34166712e-01,\n",
       "         9.57133845e-02,  2.93475738e-01, -1.61766625e-02, -4.25840161e-01,\n",
       "         2.02676587e+01, -9.63709938e+01,  9.39373220e+00]),\n",
       " 16.23453347174052,\n",
       " array([-9.67790501e-02,  1.03754400e+00, -1.19506908e+00,  6.56423025e-01,\n",
       "         1.46135036e+00,  2.37141461e+00,  1.21421996e-01,  4.17069425e-03,\n",
       "         5.63235385e-02,  5.88996043e-01,  1.14862719e-01,  1.46832557e-01,\n",
       "         8.67463197e-02,  3.17447409e-01, -1.18750532e-02, -6.60565212e-01,\n",
       "         2.31507638e+01, -1.03650346e+02,  7.73834686e+00]),\n",
       " 24.31594780093633,\n",
       " array([-1.70240041e-01,  1.19114614e+00, -1.86685237e+00,  6.05690777e-01,\n",
       "         1.58681056e+00,  2.56010765e+00, -7.05769464e-01,  1.90876286e-03,\n",
       "         5.99492953e-02,  6.44753900e-01,  1.21555223e-01,  1.61391824e-01,\n",
       "         7.38459204e-02,  3.38809011e-01, -4.16780639e-03, -9.18652595e-01,\n",
       "         2.64982209e+01, -1.09692102e+02,  5.24992381e+00]),\n",
       " 35.15112876090342,\n",
       " array([-2.61469001e-01,  1.38438243e+00, -2.57990446e+00,  5.52399394e-01,\n",
       "         1.74107071e+00,  2.75182400e+00, -1.59337179e+00, -9.57501596e-04,\n",
       "         6.44827447e-02,  7.03791596e-01,  1.29939380e-01,  1.77996378e-01,\n",
       "         5.66817734e-02,  3.57266641e-01,  7.32059623e-03, -1.19304423e+00,\n",
       "         3.04248411e+01, -1.14440498e+02,  1.91228521e+00]),\n",
       " 48.2835472613898,\n",
       " array([-3.72897270e-01,  1.62418585e+00, -3.31260506e+00,  4.98971661e-01,\n",
       "         1.92390500e+00,  2.94617381e+00, -2.50374301e+00, -4.54466116e-03,\n",
       "         7.01648697e-02,  7.64355961e-01,  1.40685111e-01,  1.96660055e-01,\n",
       "         3.51412700e-02,  3.72783540e-01,  2.27664327e-02, -1.47579260e+00,\n",
       "         3.49977428e+01, -1.17929559e+02, -2.25350581e+00]),\n",
       " 63.294110942938744,\n",
       " array([-5.06249718e-01,  1.91651450e+00, -4.03800858e+00,  4.46472679e-01,\n",
       "         2.13094781e+00,  3.14288370e+00, -3.39176268e+00, -8.99525857e-03,\n",
       "         7.72185859e-02,  8.24275551e-01,  1.54604989e-01,  2.17233448e-01,\n",
       "         9.40142689e-03,  3.85528157e-01,  4.21331778e-02, -1.75840059e+00,\n",
       "         4.02180070e+01, -1.20260782e+02, -7.17785203e+00]),\n",
       " 79.75581699170675,\n",
       " array([-6.61887908e-01,  2.26532187e+00, -4.72440858e+00,  3.93624039e-01,\n",
       "         2.35362128e+00,  3.34138110e+00, -4.20804880e+00, -1.44793299e-02,\n",
       "         8.58342066e-02,  8.81207970e-01,  1.72667671e-01,  2.39395411e-01,\n",
       "        -2.00311159e-02,  3.95802240e-01,  6.51541574e-02, -2.03233401e+00,\n",
       "         4.60137986e+01, -1.21582587e+02, -1.27352525e+01]),\n",
       " 97.1970678294092,\n",
       " array([-8.38190478e-01,  2.67120377e+00, -5.33756344e+00,  3.36179011e-01,\n",
       "         2.57991405e+00,  3.54042627e+00, -4.90320118e+00, -2.11934743e-02,\n",
       "         9.61657174e-02,  9.32851415e-01,  1.95996138e-01,  2.62669131e-01,\n",
       "        -5.23271256e-02,  4.03969348e-01,  9.13169025e-02, -2.28971746e+00,\n",
       "         5.22466583e+01, -1.22073550e+02, -1.87468644e+01]),\n",
       " 115.08796977230469,\n",
       " array([-1.03117136e+00,  3.12993454e+00, -5.84457443e+00,  2.67187942e-01,\n",
       "         2.79604668e+00,  3.73790713e+00, -5.43267972e+00, -2.93567846e-02,\n",
       "         1.08346156e-01,  9.77056395e-01,  2.25836011e-01,  2.86470816e-01,\n",
       "        -8.63962124e-02,  4.10397533e-01,  1.19870572e-01, -2.52419177e+00,\n",
       "         5.87302199e+01, -1.21927897e+02, -2.49955160e+01]),\n",
       " 132.85805497557095,\n",
       " array([-1.23452115e+00,  3.63134996e+00, -6.21870031e+00,  1.78401570e-01,\n",
       "         2.98874568e+00,  3.93082239e+00, -5.76175551e+00, -3.92034170e-02,\n",
       "         1.22526755e-01,  1.01184254e+00,  2.63469833e-01,  3.10193013e-01,\n",
       "        -1.20994309e-01,  4.15421972e-01,  1.49878964e-01, -2.73183127e+00,\n",
       "         6.52578553e+01, -1.21341045e+02, -3.12510031e+01]),\n",
       " 149.94258953281178,\n",
       " array([-1.44015450e+00,  4.15916465e+00, -6.44377655e+00,  6.25146145e-02,\n",
       "         3.14752530e+00,  4.11542800e+00, -5.86958158e+00, -5.09715688e-02,\n",
       "         1.38937759e-01,  1.03539959e+00,  3.10049417e-01,  3.33307893e-01,\n",
       "        -1.54850359e-01,  4.19326528e-01,  1.80323331e-01, -2.91187870e+00,\n",
       "         7.16332188e+01, -1.20494849e+02, -3.72994306e+01]),\n",
       " 165.84237511254582,\n",
       " array([-1.63918541e+00,  4.69214974e+00, -6.51677439e+00, -8.45252136e-02,\n",
       "         3.26626759e+00,  4.28751372e+00, -5.75122517e+00, -6.48877922e-02,\n",
       "         1.57961684e-01,  1.04618927e+00,  3.66332498e-01,  3.55451204e-01,\n",
       "        -1.86775497e-01,  4.22339098e-01,  2.10232394e-01, -3.06696886e+00,\n",
       "         7.76963370e+01, -1.19544600e+02, -4.29684878e+01]),\n",
       " 180.1762175138387,\n",
       " array([-1.82310303e+00,  5.20661652e+00, -6.44767217e+00, -2.61983855e-01,\n",
       "         3.34365605e+00,  4.44277325e+00, -5.41698767e+00, -8.11447496e-02,\n",
       "         1.80205176e-01,  1.04324304e+00,  4.32346855e-01,  3.76428796e-01,\n",
       "        -2.15725765e-01,  4.24634955e-01,  2.38800325e-01, -3.20261806e+00,\n",
       "         8.33390398e+01, -1.18610550e+02, -4.81419937e+01]),\n",
       " 192.70975920762908,\n",
       " array([-1.98485574e+00,  5.67958335e+00, -6.25696917e+00, -4.64035588e-01,\n",
       "         3.38254753e+00,  4.57721083e+00, -4.88940016e+00, -9.98716500e-02,\n",
       "         2.06555114e-01,  1.02667359e+00,  5.07052309e-01,  3.96094736e-01,\n",
       "        -2.40811907e-01,  4.26344218e-01,  2.65458023e-01, -3.32604671e+00,\n",
       "         8.85073266e+01, -1.17775289e+02, -5.27614288e+01]),\n",
       " 203.35563902576496,\n",
       " array([  -2.1195973 ,    6.09169851,   -5.97208979,   -0.68059024,\n",
       "           3.38880642,    4.68750515,   -4.1991478 ,   -0.12110116,\n",
       "           0.23820712,    0.99830479,    0.5881033 ,    0.41409643,\n",
       "          -0.26127304,    0.42756182,    0.28988444,   -3.44469648,\n",
       "          93.19296264, -117.08603969,  -56.81711903])]"
      ]
     },
     "execution_count": 27,
     "metadata": {},
     "output_type": "execute_result"
    }
   ],
   "source": [
    "coefs"
   ]
  },
  {
   "cell_type": "code",
   "execution_count": 28,
   "metadata": {},
   "outputs": [
    {
     "data": {
      "text/plain": [
       "array([ 1.14509024e-04,  4.03975687e-04,  1.80764671e-03,  6.71556420e-04,\n",
       "        8.16238180e-04,  8.49195167e-04,  3.44287169e-03,  9.21746806e-06,\n",
       "        3.47110139e-05,  2.57228171e-04,  7.16647279e-05,  6.77565232e-05,\n",
       "        8.59978412e-05,  6.31994119e-05, -2.27175465e-06,  1.81299636e-04,\n",
       "       -2.17056079e-03, -1.34797225e-02, -1.75513882e-03])"
      ]
     },
     "execution_count": 28,
     "metadata": {},
     "output_type": "execute_result"
    }
   ],
   "source": [
    "coefs[99]"
   ]
  },
  {
   "cell_type": "code",
   "execution_count": 29,
   "metadata": {},
   "outputs": [
    {
     "data": {
      "text/plain": [
       "0.49770235643321137"
      ]
     },
     "execution_count": 29,
     "metadata": {},
     "output_type": "execute_result"
    }
   ],
   "source": [
    "#identifying the Best alpha (a.k.a. lambda)\n",
    "\n",
    "ridgecv=RidgeCV(alphas=alphas,normalize=True,fit_intercept=True)\n",
    "ridgecv.fit(X_train,y_train)\n",
    "ridgecv.alpha_"
   ]
  },
  {
   "cell_type": "code",
   "execution_count": 30,
   "metadata": {},
   "outputs": [
    {
     "data": {
      "text/plain": [
       "99997.3517290255"
      ]
     },
     "execution_count": 30,
     "metadata": {},
     "output_type": "execute_result"
    }
   ],
   "source": [
    "#MSE for the chosen alpha\n",
    "\n",
    "ridge4=Ridge(alpha=ridgecv.alpha_,normalize=True,fit_intercept=True)\n",
    "ridge4.fit(X_train,y_train)\n",
    "mean_squared_error(y_test,ridge4.predict(X_test))"
   ]
  },
  {
   "cell_type": "code",
   "execution_count": 31,
   "metadata": {},
   "outputs": [
    {
     "name": "stdout",
     "output_type": "stream",
     "text": [
      "intercept  9.77111637456926\n"
     ]
    },
    {
     "data": {
      "text/plain": [
       "AtBat           0.039089\n",
       "Hits            0.987271\n",
       "HmRun           0.210328\n",
       "Runs            1.108092\n",
       "RBI             0.875440\n",
       "Walks           1.778644\n",
       "Years           0.351680\n",
       "CAtBat          0.011224\n",
       "CHits           0.063656\n",
       "CHmRun          0.443470\n",
       "CRuns           0.126382\n",
       "CRBI            0.135001\n",
       "CWalks          0.033335\n",
       "PutOuts         0.188256\n",
       "Assists         0.040423\n",
       "Errors         -1.751570\n",
       "League_N       26.494555\n",
       "Division_W    -90.056030\n",
       "NewLeague_N     7.580892\n",
       "dtype: float64"
      ]
     },
     "execution_count": 31,
     "metadata": {},
     "output_type": "execute_result"
    }
   ],
   "source": [
    "#Fit the model on the entire data\n",
    "\n",
    "ridge4.fit(X,y)\n",
    "print('intercept ',ridge4.intercept_)\n",
    "pd.Series(ridge4.coef_,index=X.columns)"
   ]
  },
  {
   "cell_type": "code",
   "execution_count": 32,
   "metadata": {},
   "outputs": [
    {
     "data": {
      "text/plain": [
       "sklearn.linear_model.ridge.Ridge"
      ]
     },
     "execution_count": 32,
     "metadata": {},
     "output_type": "execute_result"
    }
   ],
   "source": [
    "#Study the Ridge() function - It works somewhat differently from what we do in R\n",
    "\n",
    "Ridge    #Press shift + Tab (3 times)"
   ]
  },
  {
   "cell_type": "markdown",
   "metadata": {},
   "source": [
    "### B. Fitting a LASSO Model"
   ]
  },
  {
   "cell_type": "code",
   "execution_count": 33,
   "metadata": {},
   "outputs": [
    {
     "name": "stderr",
     "output_type": "stream",
     "text": [
      "C:\\Users\\Vinay\\Anaconda3\\lib\\site-packages\\ipykernel_launcher.py:7: DataConversionWarning: Data with input dtype uint8, float64 were all converted to float64 by the scale function.\n",
      "  import sys\n",
      "C:\\Users\\Vinay\\Anaconda3\\lib\\site-packages\\ipykernel_launcher.py:7: DataConversionWarning: Data with input dtype uint8, float64 were all converted to float64 by the scale function.\n",
      "  import sys\n",
      "C:\\Users\\Vinay\\Anaconda3\\lib\\site-packages\\ipykernel_launcher.py:7: DataConversionWarning: Data with input dtype uint8, float64 were all converted to float64 by the scale function.\n",
      "  import sys\n",
      "C:\\Users\\Vinay\\Anaconda3\\lib\\site-packages\\ipykernel_launcher.py:7: DataConversionWarning: Data with input dtype uint8, float64 were all converted to float64 by the scale function.\n",
      "  import sys\n",
      "C:\\Users\\Vinay\\Anaconda3\\lib\\site-packages\\ipykernel_launcher.py:7: DataConversionWarning: Data with input dtype uint8, float64 were all converted to float64 by the scale function.\n",
      "  import sys\n",
      "C:\\Users\\Vinay\\Anaconda3\\lib\\site-packages\\ipykernel_launcher.py:7: DataConversionWarning: Data with input dtype uint8, float64 were all converted to float64 by the scale function.\n",
      "  import sys\n",
      "C:\\Users\\Vinay\\Anaconda3\\lib\\site-packages\\ipykernel_launcher.py:7: DataConversionWarning: Data with input dtype uint8, float64 were all converted to float64 by the scale function.\n",
      "  import sys\n",
      "C:\\Users\\Vinay\\Anaconda3\\lib\\site-packages\\ipykernel_launcher.py:7: DataConversionWarning: Data with input dtype uint8, float64 were all converted to float64 by the scale function.\n",
      "  import sys\n",
      "C:\\Users\\Vinay\\Anaconda3\\lib\\site-packages\\ipykernel_launcher.py:7: DataConversionWarning: Data with input dtype uint8, float64 were all converted to float64 by the scale function.\n",
      "  import sys\n",
      "C:\\Users\\Vinay\\Anaconda3\\lib\\site-packages\\ipykernel_launcher.py:7: DataConversionWarning: Data with input dtype uint8, float64 were all converted to float64 by the scale function.\n",
      "  import sys\n",
      "C:\\Users\\Vinay\\Anaconda3\\lib\\site-packages\\ipykernel_launcher.py:7: DataConversionWarning: Data with input dtype uint8, float64 were all converted to float64 by the scale function.\n",
      "  import sys\n",
      "C:\\Users\\Vinay\\Anaconda3\\lib\\site-packages\\ipykernel_launcher.py:7: DataConversionWarning: Data with input dtype uint8, float64 were all converted to float64 by the scale function.\n",
      "  import sys\n",
      "C:\\Users\\Vinay\\Anaconda3\\lib\\site-packages\\ipykernel_launcher.py:7: DataConversionWarning: Data with input dtype uint8, float64 were all converted to float64 by the scale function.\n",
      "  import sys\n",
      "C:\\Users\\Vinay\\Anaconda3\\lib\\site-packages\\ipykernel_launcher.py:7: DataConversionWarning: Data with input dtype uint8, float64 were all converted to float64 by the scale function.\n",
      "  import sys\n",
      "C:\\Users\\Vinay\\Anaconda3\\lib\\site-packages\\ipykernel_launcher.py:7: DataConversionWarning: Data with input dtype uint8, float64 were all converted to float64 by the scale function.\n",
      "  import sys\n",
      "C:\\Users\\Vinay\\Anaconda3\\lib\\site-packages\\ipykernel_launcher.py:7: DataConversionWarning: Data with input dtype uint8, float64 were all converted to float64 by the scale function.\n",
      "  import sys\n",
      "C:\\Users\\Vinay\\Anaconda3\\lib\\site-packages\\ipykernel_launcher.py:7: DataConversionWarning: Data with input dtype uint8, float64 were all converted to float64 by the scale function.\n",
      "  import sys\n",
      "C:\\Users\\Vinay\\Anaconda3\\lib\\site-packages\\ipykernel_launcher.py:7: DataConversionWarning: Data with input dtype uint8, float64 were all converted to float64 by the scale function.\n",
      "  import sys\n",
      "C:\\Users\\Vinay\\Anaconda3\\lib\\site-packages\\ipykernel_launcher.py:7: DataConversionWarning: Data with input dtype uint8, float64 were all converted to float64 by the scale function.\n",
      "  import sys\n",
      "C:\\Users\\Vinay\\Anaconda3\\lib\\site-packages\\ipykernel_launcher.py:7: DataConversionWarning: Data with input dtype uint8, float64 were all converted to float64 by the scale function.\n",
      "  import sys\n",
      "C:\\Users\\Vinay\\Anaconda3\\lib\\site-packages\\ipykernel_launcher.py:7: DataConversionWarning: Data with input dtype uint8, float64 were all converted to float64 by the scale function.\n",
      "  import sys\n",
      "C:\\Users\\Vinay\\Anaconda3\\lib\\site-packages\\ipykernel_launcher.py:7: DataConversionWarning: Data with input dtype uint8, float64 were all converted to float64 by the scale function.\n",
      "  import sys\n",
      "C:\\Users\\Vinay\\Anaconda3\\lib\\site-packages\\ipykernel_launcher.py:7: DataConversionWarning: Data with input dtype uint8, float64 were all converted to float64 by the scale function.\n",
      "  import sys\n",
      "C:\\Users\\Vinay\\Anaconda3\\lib\\site-packages\\ipykernel_launcher.py:7: DataConversionWarning: Data with input dtype uint8, float64 were all converted to float64 by the scale function.\n",
      "  import sys\n",
      "C:\\Users\\Vinay\\Anaconda3\\lib\\site-packages\\ipykernel_launcher.py:7: DataConversionWarning: Data with input dtype uint8, float64 were all converted to float64 by the scale function.\n",
      "  import sys\n",
      "C:\\Users\\Vinay\\Anaconda3\\lib\\site-packages\\ipykernel_launcher.py:7: DataConversionWarning: Data with input dtype uint8, float64 were all converted to float64 by the scale function.\n",
      "  import sys\n",
      "C:\\Users\\Vinay\\Anaconda3\\lib\\site-packages\\ipykernel_launcher.py:7: DataConversionWarning: Data with input dtype uint8, float64 were all converted to float64 by the scale function.\n",
      "  import sys\n",
      "C:\\Users\\Vinay\\Anaconda3\\lib\\site-packages\\ipykernel_launcher.py:7: DataConversionWarning: Data with input dtype uint8, float64 were all converted to float64 by the scale function.\n",
      "  import sys\n",
      "C:\\Users\\Vinay\\Anaconda3\\lib\\site-packages\\ipykernel_launcher.py:7: DataConversionWarning: Data with input dtype uint8, float64 were all converted to float64 by the scale function.\n",
      "  import sys\n",
      "C:\\Users\\Vinay\\Anaconda3\\lib\\site-packages\\ipykernel_launcher.py:7: DataConversionWarning: Data with input dtype uint8, float64 were all converted to float64 by the scale function.\n",
      "  import sys\n",
      "C:\\Users\\Vinay\\Anaconda3\\lib\\site-packages\\ipykernel_launcher.py:7: DataConversionWarning: Data with input dtype uint8, float64 were all converted to float64 by the scale function.\n",
      "  import sys\n",
      "C:\\Users\\Vinay\\Anaconda3\\lib\\site-packages\\ipykernel_launcher.py:7: DataConversionWarning: Data with input dtype uint8, float64 were all converted to float64 by the scale function.\n",
      "  import sys\n",
      "C:\\Users\\Vinay\\Anaconda3\\lib\\site-packages\\ipykernel_launcher.py:7: DataConversionWarning: Data with input dtype uint8, float64 were all converted to float64 by the scale function.\n",
      "  import sys\n",
      "C:\\Users\\Vinay\\Anaconda3\\lib\\site-packages\\ipykernel_launcher.py:7: DataConversionWarning: Data with input dtype uint8, float64 were all converted to float64 by the scale function.\n",
      "  import sys\n",
      "C:\\Users\\Vinay\\Anaconda3\\lib\\site-packages\\ipykernel_launcher.py:7: DataConversionWarning: Data with input dtype uint8, float64 were all converted to float64 by the scale function.\n",
      "  import sys\n",
      "C:\\Users\\Vinay\\Anaconda3\\lib\\site-packages\\ipykernel_launcher.py:7: DataConversionWarning: Data with input dtype uint8, float64 were all converted to float64 by the scale function.\n",
      "  import sys\n",
      "C:\\Users\\Vinay\\Anaconda3\\lib\\site-packages\\ipykernel_launcher.py:7: DataConversionWarning: Data with input dtype uint8, float64 were all converted to float64 by the scale function.\n",
      "  import sys\n",
      "C:\\Users\\Vinay\\Anaconda3\\lib\\site-packages\\ipykernel_launcher.py:7: DataConversionWarning: Data with input dtype uint8, float64 were all converted to float64 by the scale function.\n",
      "  import sys\n",
      "C:\\Users\\Vinay\\Anaconda3\\lib\\site-packages\\ipykernel_launcher.py:7: DataConversionWarning: Data with input dtype uint8, float64 were all converted to float64 by the scale function.\n",
      "  import sys\n",
      "C:\\Users\\Vinay\\Anaconda3\\lib\\site-packages\\ipykernel_launcher.py:7: DataConversionWarning: Data with input dtype uint8, float64 were all converted to float64 by the scale function.\n",
      "  import sys\n",
      "C:\\Users\\Vinay\\Anaconda3\\lib\\site-packages\\ipykernel_launcher.py:7: DataConversionWarning: Data with input dtype uint8, float64 were all converted to float64 by the scale function.\n",
      "  import sys\n",
      "C:\\Users\\Vinay\\Anaconda3\\lib\\site-packages\\ipykernel_launcher.py:7: DataConversionWarning: Data with input dtype uint8, float64 were all converted to float64 by the scale function.\n",
      "  import sys\n",
      "C:\\Users\\Vinay\\Anaconda3\\lib\\site-packages\\ipykernel_launcher.py:7: DataConversionWarning: Data with input dtype uint8, float64 were all converted to float64 by the scale function.\n",
      "  import sys\n",
      "C:\\Users\\Vinay\\Anaconda3\\lib\\site-packages\\ipykernel_launcher.py:7: DataConversionWarning: Data with input dtype uint8, float64 were all converted to float64 by the scale function.\n",
      "  import sys\n",
      "C:\\Users\\Vinay\\Anaconda3\\lib\\site-packages\\ipykernel_launcher.py:7: DataConversionWarning: Data with input dtype uint8, float64 were all converted to float64 by the scale function.\n",
      "  import sys\n",
      "C:\\Users\\Vinay\\Anaconda3\\lib\\site-packages\\ipykernel_launcher.py:7: DataConversionWarning: Data with input dtype uint8, float64 were all converted to float64 by the scale function.\n",
      "  import sys\n",
      "C:\\Users\\Vinay\\Anaconda3\\lib\\site-packages\\ipykernel_launcher.py:7: DataConversionWarning: Data with input dtype uint8, float64 were all converted to float64 by the scale function.\n",
      "  import sys\n",
      "C:\\Users\\Vinay\\Anaconda3\\lib\\site-packages\\ipykernel_launcher.py:7: DataConversionWarning: Data with input dtype uint8, float64 were all converted to float64 by the scale function.\n",
      "  import sys\n",
      "C:\\Users\\Vinay\\Anaconda3\\lib\\site-packages\\ipykernel_launcher.py:7: DataConversionWarning: Data with input dtype uint8, float64 were all converted to float64 by the scale function.\n",
      "  import sys\n",
      "C:\\Users\\Vinay\\Anaconda3\\lib\\site-packages\\ipykernel_launcher.py:7: DataConversionWarning: Data with input dtype uint8, float64 were all converted to float64 by the scale function.\n",
      "  import sys\n",
      "C:\\Users\\Vinay\\Anaconda3\\lib\\site-packages\\ipykernel_launcher.py:7: DataConversionWarning: Data with input dtype uint8, float64 were all converted to float64 by the scale function.\n",
      "  import sys\n",
      "C:\\Users\\Vinay\\Anaconda3\\lib\\site-packages\\ipykernel_launcher.py:7: DataConversionWarning: Data with input dtype uint8, float64 were all converted to float64 by the scale function.\n",
      "  import sys\n",
      "C:\\Users\\Vinay\\Anaconda3\\lib\\site-packages\\ipykernel_launcher.py:7: DataConversionWarning: Data with input dtype uint8, float64 were all converted to float64 by the scale function.\n",
      "  import sys\n",
      "C:\\Users\\Vinay\\Anaconda3\\lib\\site-packages\\ipykernel_launcher.py:7: DataConversionWarning: Data with input dtype uint8, float64 were all converted to float64 by the scale function.\n",
      "  import sys\n"
     ]
    },
    {
     "name": "stderr",
     "output_type": "stream",
     "text": [
      "C:\\Users\\Vinay\\Anaconda3\\lib\\site-packages\\ipykernel_launcher.py:7: DataConversionWarning: Data with input dtype uint8, float64 were all converted to float64 by the scale function.\n",
      "  import sys\n",
      "C:\\Users\\Vinay\\Anaconda3\\lib\\site-packages\\ipykernel_launcher.py:7: DataConversionWarning: Data with input dtype uint8, float64 were all converted to float64 by the scale function.\n",
      "  import sys\n",
      "C:\\Users\\Vinay\\Anaconda3\\lib\\site-packages\\ipykernel_launcher.py:7: DataConversionWarning: Data with input dtype uint8, float64 were all converted to float64 by the scale function.\n",
      "  import sys\n",
      "C:\\Users\\Vinay\\Anaconda3\\lib\\site-packages\\ipykernel_launcher.py:7: DataConversionWarning: Data with input dtype uint8, float64 were all converted to float64 by the scale function.\n",
      "  import sys\n",
      "C:\\Users\\Vinay\\Anaconda3\\lib\\site-packages\\ipykernel_launcher.py:7: DataConversionWarning: Data with input dtype uint8, float64 were all converted to float64 by the scale function.\n",
      "  import sys\n",
      "C:\\Users\\Vinay\\Anaconda3\\lib\\site-packages\\ipykernel_launcher.py:7: DataConversionWarning: Data with input dtype uint8, float64 were all converted to float64 by the scale function.\n",
      "  import sys\n",
      "C:\\Users\\Vinay\\Anaconda3\\lib\\site-packages\\ipykernel_launcher.py:7: DataConversionWarning: Data with input dtype uint8, float64 were all converted to float64 by the scale function.\n",
      "  import sys\n",
      "C:\\Users\\Vinay\\Anaconda3\\lib\\site-packages\\ipykernel_launcher.py:7: DataConversionWarning: Data with input dtype uint8, float64 were all converted to float64 by the scale function.\n",
      "  import sys\n",
      "C:\\Users\\Vinay\\Anaconda3\\lib\\site-packages\\ipykernel_launcher.py:7: DataConversionWarning: Data with input dtype uint8, float64 were all converted to float64 by the scale function.\n",
      "  import sys\n",
      "C:\\Users\\Vinay\\Anaconda3\\lib\\site-packages\\ipykernel_launcher.py:7: DataConversionWarning: Data with input dtype uint8, float64 were all converted to float64 by the scale function.\n",
      "  import sys\n",
      "C:\\Users\\Vinay\\Anaconda3\\lib\\site-packages\\ipykernel_launcher.py:7: DataConversionWarning: Data with input dtype uint8, float64 were all converted to float64 by the scale function.\n",
      "  import sys\n",
      "C:\\Users\\Vinay\\Anaconda3\\lib\\site-packages\\ipykernel_launcher.py:7: DataConversionWarning: Data with input dtype uint8, float64 were all converted to float64 by the scale function.\n",
      "  import sys\n",
      "C:\\Users\\Vinay\\Anaconda3\\lib\\site-packages\\ipykernel_launcher.py:7: DataConversionWarning: Data with input dtype uint8, float64 were all converted to float64 by the scale function.\n",
      "  import sys\n",
      "C:\\Users\\Vinay\\Anaconda3\\lib\\site-packages\\ipykernel_launcher.py:7: DataConversionWarning: Data with input dtype uint8, float64 were all converted to float64 by the scale function.\n",
      "  import sys\n",
      "C:\\Users\\Vinay\\Anaconda3\\lib\\site-packages\\ipykernel_launcher.py:7: DataConversionWarning: Data with input dtype uint8, float64 were all converted to float64 by the scale function.\n",
      "  import sys\n",
      "C:\\Users\\Vinay\\Anaconda3\\lib\\site-packages\\ipykernel_launcher.py:7: DataConversionWarning: Data with input dtype uint8, float64 were all converted to float64 by the scale function.\n",
      "  import sys\n",
      "C:\\Users\\Vinay\\Anaconda3\\lib\\site-packages\\ipykernel_launcher.py:7: DataConversionWarning: Data with input dtype uint8, float64 were all converted to float64 by the scale function.\n",
      "  import sys\n",
      "C:\\Users\\Vinay\\Anaconda3\\lib\\site-packages\\ipykernel_launcher.py:7: DataConversionWarning: Data with input dtype uint8, float64 were all converted to float64 by the scale function.\n",
      "  import sys\n",
      "C:\\Users\\Vinay\\Anaconda3\\lib\\site-packages\\ipykernel_launcher.py:7: DataConversionWarning: Data with input dtype uint8, float64 were all converted to float64 by the scale function.\n",
      "  import sys\n",
      "C:\\Users\\Vinay\\Anaconda3\\lib\\site-packages\\ipykernel_launcher.py:7: DataConversionWarning: Data with input dtype uint8, float64 were all converted to float64 by the scale function.\n",
      "  import sys\n",
      "C:\\Users\\Vinay\\Anaconda3\\lib\\site-packages\\ipykernel_launcher.py:7: DataConversionWarning: Data with input dtype uint8, float64 were all converted to float64 by the scale function.\n",
      "  import sys\n",
      "C:\\Users\\Vinay\\Anaconda3\\lib\\site-packages\\ipykernel_launcher.py:7: DataConversionWarning: Data with input dtype uint8, float64 were all converted to float64 by the scale function.\n",
      "  import sys\n",
      "C:\\Users\\Vinay\\Anaconda3\\lib\\site-packages\\ipykernel_launcher.py:7: DataConversionWarning: Data with input dtype uint8, float64 were all converted to float64 by the scale function.\n",
      "  import sys\n",
      "C:\\Users\\Vinay\\Anaconda3\\lib\\site-packages\\ipykernel_launcher.py:7: DataConversionWarning: Data with input dtype uint8, float64 were all converted to float64 by the scale function.\n",
      "  import sys\n",
      "C:\\Users\\Vinay\\Anaconda3\\lib\\site-packages\\ipykernel_launcher.py:7: DataConversionWarning: Data with input dtype uint8, float64 were all converted to float64 by the scale function.\n",
      "  import sys\n",
      "C:\\Users\\Vinay\\Anaconda3\\lib\\site-packages\\ipykernel_launcher.py:7: DataConversionWarning: Data with input dtype uint8, float64 were all converted to float64 by the scale function.\n",
      "  import sys\n",
      "C:\\Users\\Vinay\\Anaconda3\\lib\\site-packages\\ipykernel_launcher.py:7: DataConversionWarning: Data with input dtype uint8, float64 were all converted to float64 by the scale function.\n",
      "  import sys\n",
      "C:\\Users\\Vinay\\Anaconda3\\lib\\site-packages\\ipykernel_launcher.py:7: DataConversionWarning: Data with input dtype uint8, float64 were all converted to float64 by the scale function.\n",
      "  import sys\n",
      "C:\\Users\\Vinay\\Anaconda3\\lib\\site-packages\\ipykernel_launcher.py:7: DataConversionWarning: Data with input dtype uint8, float64 were all converted to float64 by the scale function.\n",
      "  import sys\n",
      "C:\\Users\\Vinay\\Anaconda3\\lib\\site-packages\\ipykernel_launcher.py:7: DataConversionWarning: Data with input dtype uint8, float64 were all converted to float64 by the scale function.\n",
      "  import sys\n",
      "C:\\Users\\Vinay\\Anaconda3\\lib\\site-packages\\ipykernel_launcher.py:7: DataConversionWarning: Data with input dtype uint8, float64 were all converted to float64 by the scale function.\n",
      "  import sys\n",
      "C:\\Users\\Vinay\\Anaconda3\\lib\\site-packages\\ipykernel_launcher.py:7: DataConversionWarning: Data with input dtype uint8, float64 were all converted to float64 by the scale function.\n",
      "  import sys\n",
      "C:\\Users\\Vinay\\Anaconda3\\lib\\site-packages\\ipykernel_launcher.py:7: DataConversionWarning: Data with input dtype uint8, float64 were all converted to float64 by the scale function.\n",
      "  import sys\n",
      "C:\\Users\\Vinay\\Anaconda3\\lib\\site-packages\\ipykernel_launcher.py:7: DataConversionWarning: Data with input dtype uint8, float64 were all converted to float64 by the scale function.\n",
      "  import sys\n",
      "C:\\Users\\Vinay\\Anaconda3\\lib\\site-packages\\ipykernel_launcher.py:7: DataConversionWarning: Data with input dtype uint8, float64 were all converted to float64 by the scale function.\n",
      "  import sys\n",
      "C:\\Users\\Vinay\\Anaconda3\\lib\\site-packages\\ipykernel_launcher.py:7: DataConversionWarning: Data with input dtype uint8, float64 were all converted to float64 by the scale function.\n",
      "  import sys\n",
      "C:\\Users\\Vinay\\Anaconda3\\lib\\site-packages\\ipykernel_launcher.py:7: DataConversionWarning: Data with input dtype uint8, float64 were all converted to float64 by the scale function.\n",
      "  import sys\n",
      "C:\\Users\\Vinay\\Anaconda3\\lib\\site-packages\\ipykernel_launcher.py:7: DataConversionWarning: Data with input dtype uint8, float64 were all converted to float64 by the scale function.\n",
      "  import sys\n",
      "C:\\Users\\Vinay\\Anaconda3\\lib\\site-packages\\ipykernel_launcher.py:7: DataConversionWarning: Data with input dtype uint8, float64 were all converted to float64 by the scale function.\n",
      "  import sys\n",
      "C:\\Users\\Vinay\\Anaconda3\\lib\\site-packages\\ipykernel_launcher.py:7: DataConversionWarning: Data with input dtype uint8, float64 were all converted to float64 by the scale function.\n",
      "  import sys\n",
      "C:\\Users\\Vinay\\Anaconda3\\lib\\site-packages\\ipykernel_launcher.py:7: DataConversionWarning: Data with input dtype uint8, float64 were all converted to float64 by the scale function.\n",
      "  import sys\n",
      "C:\\Users\\Vinay\\Anaconda3\\lib\\site-packages\\ipykernel_launcher.py:7: DataConversionWarning: Data with input dtype uint8, float64 were all converted to float64 by the scale function.\n",
      "  import sys\n",
      "C:\\Users\\Vinay\\Anaconda3\\lib\\site-packages\\ipykernel_launcher.py:7: DataConversionWarning: Data with input dtype uint8, float64 were all converted to float64 by the scale function.\n",
      "  import sys\n",
      "C:\\Users\\Vinay\\Anaconda3\\lib\\site-packages\\ipykernel_launcher.py:7: DataConversionWarning: Data with input dtype uint8, float64 were all converted to float64 by the scale function.\n",
      "  import sys\n"
     ]
    },
    {
     "name": "stderr",
     "output_type": "stream",
     "text": [
      "C:\\Users\\Vinay\\Anaconda3\\lib\\site-packages\\ipykernel_launcher.py:7: DataConversionWarning: Data with input dtype uint8, float64 were all converted to float64 by the scale function.\n",
      "  import sys\n",
      "C:\\Users\\Vinay\\Anaconda3\\lib\\site-packages\\ipykernel_launcher.py:7: DataConversionWarning: Data with input dtype uint8, float64 were all converted to float64 by the scale function.\n",
      "  import sys\n"
     ]
    },
    {
     "data": {
      "text/plain": [
       "Text(0,0.5,'weights')"
      ]
     },
     "execution_count": 33,
     "metadata": {},
     "output_type": "execute_result"
    },
    {
     "data": {
      "image/png": "[encoded data removed]",
      "text/plain": [
       "<Figure size 432x288 with 1 Axes>"
      ]
     },
     "metadata": {},
     "output_type": "display_data"
    }
   ],
   "source": [
    "import sys\n",
    "lasso = Lasso(max_iter = 10000, normalize = True)\n",
    "coefs = []\n",
    "\n",
    "for a in alphas:\n",
    "    lasso.set_params(alpha=a)\n",
    "    lasso.fit(scale(X_train), y_train)\n",
    "    coefs.append(lasso.coef_)\n",
    "    \n",
    "ax = plt.gca()\n",
    "ax.plot(alphas*2, coefs)\n",
    "ax.set_xscale('log')\n",
    "plt.axis('tight')\n",
    "plt.xlabel('alpha')\n",
    "plt.ylabel('weights')\n"
   ]
  },
  {
   "cell_type": "code",
   "execution_count": 34,
   "metadata": {},
   "outputs": [
    {
     "data": {
      "text/plain": [
       "104960.65853895503"
      ]
     },
     "execution_count": 34,
     "metadata": {},
     "output_type": "execute_result"
    }
   ],
   "source": [
    "#Fitting a Lasso Model\n",
    "\n",
    "lassocv = LassoCV(alphas = None, cv = 10, max_iter = 100000, normalize = True)\n",
    "lassocv.fit(X_train, y_train)\n",
    "\n",
    "lasso.set_params(alpha=lassocv.alpha_)\n",
    "lasso.fit(X_train, y_train)\n",
    "mean_squared_error(y_test, lasso.predict(X_test))\n"
   ]
  },
  {
   "cell_type": "code",
   "execution_count": 35,
   "metadata": {},
   "outputs": [
    {
     "name": "stdout",
     "output_type": "stream",
     "text": [
      "AtBat           0.000000\n",
      "Hits            1.082446\n",
      "HmRun           0.000000\n",
      "Runs            0.000000\n",
      "RBI             0.000000\n",
      "Walks           2.906388\n",
      "Years           0.000000\n",
      "CAtBat          0.000000\n",
      "CHits           0.000000\n",
      "CHmRun          0.219367\n",
      "CRuns           0.000000\n",
      "CRBI            0.513975\n",
      "CWalks          0.000000\n",
      "PutOuts         0.368401\n",
      "Assists        -0.000000\n",
      "Errors         -0.000000\n",
      "League_N        0.000000\n",
      "Division_W    -89.064338\n",
      "NewLeague_N     0.000000\n",
      "dtype: float64\n"
     ]
    }
   ],
   "source": [
    "# Some of the coefficients are now reduced to exactly zero.\n",
    "print(pd.Series(lasso.coef_, index=X_train.columns))"
   ]
  },
  {
   "cell_type": "markdown",
   "metadata": {},
   "source": [
    "# Part 2 - Controlling overfitting using Regularized Regression"
   ]
  },
  {
   "cell_type": "markdown",
   "metadata": {},
   "source": [
    "For the next section you will be using the housing data that you have used in the previous session"
   ]
  },
  {
   "cell_type": "markdown",
   "metadata": {},
   "source": [
    "## 1. Create a basic setup\n",
    "\n",
    "Write your own function called ‘polynomial_dataframe’ which accepts an array ‘feature’ and a maximal ‘degree’ and returns an data frame with the first column equal to ‘feature’ and the remaining columns equal to ‘feature’ to increasing integer powers up to ‘degree’. (You may copy and paste the polynomial_dataframe() function created in the previous day)"
   ]
  },
  {
   "cell_type": "code",
   "execution_count": 36,
   "metadata": {},
   "outputs": [],
   "source": [
    "def polynomial_dataframe(feature, degree): # feature is pandas.Series type\n",
    "    # assume that degree >= 1\n",
    "    # initialize the dataframe:\n",
    "    import pandas\n",
    "    feature=np.array(feature,dtype='float64')\n",
    "    poly_dataframe = pandas.DataFrame()\n",
    "    # and set poly_dataframe['power_1'] equal to the passed feature\n",
    "    #...\n",
    "    \n",
    "    poly_dataframe['power_1'] = feature\n",
    "    \n",
    "    # first check if degree > 1\n",
    "    if degree > 1:\n",
    "        # then loop over the remaining degrees:\n",
    "        for power in range(2, degree+1):\n",
    "            # first we'll give the column a name:\n",
    "            name = 'power_' + str(power)\n",
    "            # assign poly_dataframe[name] to be feature^power; use apply(*)\n",
    "            #...\n",
    "            \n",
    "            poly_dataframe[name] = feature**power\n",
    "            \n",
    "            \n",
    "    return poly_dataframe\n",
    "\n"
   ]
  },
  {
   "cell_type": "code",
   "execution_count": 37,
   "metadata": {},
   "outputs": [],
   "source": [
    "data=pd.read_csv('C://Users//Vinay//Downloads//Model_Interpretation//wk3_kc_house_train_data.csv')"
   ]
  },
  {
   "cell_type": "code",
   "execution_count": 38,
   "metadata": {},
   "outputs": [],
   "source": [
    "data3=data.sort_values(['sqft_living'],ascending=True)"
   ]
  },
  {
   "cell_type": "code",
   "execution_count": 39,
   "metadata": {},
   "outputs": [],
   "source": [
    "X1=data3.sqft_living"
   ]
  },
  {
   "cell_type": "code",
   "execution_count": 40,
   "metadata": {},
   "outputs": [
    {
     "data": {
      "text/plain": [
       "8840    142000.0\n",
       "6982    276000.0\n",
       "8338    265000.0\n",
       "2228    228000.0\n",
       "9631    245000.0\n",
       "Name: price, dtype: float64"
      ]
     },
     "execution_count": 40,
     "metadata": {},
     "output_type": "execute_result"
    }
   ],
   "source": [
    "y1=data3.price\n",
    "y1.head()"
   ]
  },
  {
   "cell_type": "code",
   "execution_count": 41,
   "metadata": {},
   "outputs": [],
   "source": [
    "X11=polynomial_dataframe(X1,15)"
   ]
  },
  {
   "cell_type": "markdown",
   "metadata": {},
   "source": [
    "## 2. Fitting a Polynomial L2 Regularised Regression Model of Order 15\n",
    "\n",
    "Generate polynomial features up to degree 15 using `polynomial_dataframe()` and fit a model with these features. When fitting the model, use an L2 penalty of 1.5e-5. Plot the model on the scatter plot\n",
    "\n"
   ]
  },
  {
   "cell_type": "code",
   "execution_count": 42,
   "metadata": {},
   "outputs": [],
   "source": [
    "l2_small_penalty = 1.5e-5"
   ]
  },
  {
   "cell_type": "code",
   "execution_count": 43,
   "metadata": {},
   "outputs": [
    {
     "name": "stdout",
     "output_type": "stream",
     "text": [
      "intercept  200016.12341889658\n",
      "power_1     1.398484e+02\n",
      "power_2    -3.801365e-02\n",
      "power_3     2.091285e-05\n",
      "power_4    -7.374826e-10\n",
      "power_5    -1.789261e-13\n",
      "power_6    -2.752310e-18\n",
      "power_7     7.722181e-22\n",
      "power_8     8.354071e-26\n",
      "power_9     4.659695e-30\n",
      "power_10    9.956792e-35\n",
      "power_11   -1.116553e-38\n",
      "power_12   -1.750081e-42\n",
      "power_13   -1.463662e-46\n",
      "power_14   -7.793427e-51\n",
      "power_15   -3.737771e-56\n",
      "dtype: float64\n"
     ]
    }
   ],
   "source": [
    "ridge5=Ridge(alpha=l2_small_penalty,normalize=True, fit_intercept=True)\n",
    "ridge5.fit(X11,y1)\n",
    "\n",
    "print('intercept ',ridge5.intercept_)\n",
    "print(pd.Series(ridge5.coef_,index=X11.columns))"
   ]
  },
  {
   "cell_type": "code",
   "execution_count": 44,
   "metadata": {},
   "outputs": [],
   "source": [
    "x11_pred=ridge5.predict(X11)"
   ]
  },
  {
   "cell_type": "code",
   "execution_count": 45,
   "metadata": {},
   "outputs": [
    {
     "data": {
      "image/png": "[encoded data removed]",
      "text/plain": [
       "<Figure size 432x288 with 1 Axes>"
      ]
     },
     "metadata": {},
     "output_type": "display_data"
    }
   ],
   "source": [
    "plt.plot(X1,x11_pred)\n",
    "plt.scatter(X1,y1,c='black')\n",
    "plt.ylabel('Predicted values')\n",
    "plt.xlabel('Sqft_living')\n",
    "plt.title('L2 Regularised Regression Model of Order 15')\n",
    "plt.show()"
   ]
  },
  {
   "cell_type": "markdown",
   "metadata": {},
   "source": [
    "## 3. Observe Overfitting"
   ]
  },
  {
   "cell_type": "markdown",
   "metadata": {},
   "source": [
    "Recall from the last exercise that the polynomial fit of degree 15 changed wildly whenever the data changed. In particular, when we split the sales data into four subsets and fit the model of degree 15, the result came out to be very different for each subset. The model had a high variance. We will see in a moment that ridge regression reduces such variance. \n",
    "\n",
    "\n",
    "In this exercise you will reproduce the same experiment you did in the last class, except this time use a Ridge Regression model instead of OLS regression.\n",
    "\n",
    "\n"
   ]
  },
  {
   "cell_type": "code",
   "execution_count": 46,
   "metadata": {},
   "outputs": [
    {
     "data": {
      "image/png": "[encoded data removed]",
      "text/plain": [
       "<Figure size 432x288 with 1 Axes>"
      ]
     },
     "metadata": {},
     "output_type": "display_data"
    }
   ],
   "source": [
    "#fitting a OLS model to check the behaviour of linear regression on order 15 complextity. It seems it is overfitting the model\n",
    "from sklearn.linear_model import LinearRegression\n",
    "\n",
    "lm=LinearRegression()\n",
    "lm.fit(X11,y1)\n",
    "\n",
    "x11_pred=lm.predict(X11)\n",
    "\n",
    "plt.plot(X1,x11_pred)\n",
    "plt.scatter(X1,y1,c='black')\n",
    "plt.ylabel('Predicted values')\n",
    "plt.xlabel('Sqft_living')\n",
    "plt.title('Linear Regression Model of Order 15')\n",
    "plt.show()"
   ]
  },
  {
   "cell_type": "markdown",
   "metadata": {},
   "source": [
    "Here,in the OLS model high overfitting can be seen. So,it can be easily infered that with high complexity, overfitting increases.\n",
    "\n",
    "To avoid this overfitting, Regularised linear model is used."
   ]
  },
  {
   "cell_type": "markdown",
   "metadata": {
    "collapsed": true
   },
   "source": [
    "### 3a. Fit a polynomial of degree 2 (Use L2 Penalty) \n",
    "\n",
    "Fit a polynomial regression of order 2. Plot the model on the scatter plot. (Use the l2_small_penalty)"
   ]
  },
  {
   "cell_type": "code",
   "execution_count": 47,
   "metadata": {},
   "outputs": [
    {
     "name": "stdout",
     "output_type": "stream",
     "text": [
      "intercept  267463.5357857094\n",
      "power_1    1.264319\n",
      "power_2    0.052288\n",
      "dtype: float64\n"
     ]
    },
    {
     "data": {
      "image/png": "[encoded data removed]",
      "text/plain": [
       "<Figure size 432x288 with 1 Axes>"
      ]
     },
     "metadata": {},
     "output_type": "display_data"
    }
   ],
   "source": [
    "#L2 model for order 2\n",
    "\n",
    "X11=polynomial_dataframe(X1,2)\n",
    "\n",
    "ridge6=Ridge(alpha=l2_small_penalty,normalize=True, fit_intercept=True)\n",
    "ridge6.fit(X11,y1)\n",
    "print('intercept ',ridge6.intercept_)\n",
    "print(pd.Series(ridge6.coef_,index=X11.columns))\n",
    "\n",
    "x11_pred=ridge6.predict(X11)\n",
    "\n",
    "plt.plot(X1,x11_pred)\n",
    "plt.scatter(X1,y1,c='black')\n",
    "plt.ylabel('Predicted values')\n",
    "plt.xlabel('Sqft_living')\n",
    "plt.title('L2 Regularised Regression Model of Order 2')\n",
    "plt.show()"
   ]
  },
  {
   "cell_type": "markdown",
   "metadata": {
    "collapsed": true
   },
   "source": [
    "### 3b. Fit higher order polynomial fits (Use L2 Penalty)\n",
    "\n",
    "Fit a polynomial of 3rd degree, 4th degree and 5th degree. Look at the fitted line. Do they appear as you would expect? (Use the l2_small_penalty)"
   ]
  },
  {
   "cell_type": "code",
   "execution_count": 48,
   "metadata": {},
   "outputs": [
    {
     "name": "stdout",
     "output_type": "stream",
     "text": [
      "intercept  261933.4384286218\n",
      "power_1    7.770148e+00\n",
      "power_2    5.022642e-02\n",
      "power_3    1.732669e-07\n",
      "dtype: float64\n"
     ]
    },
    {
     "data": {
      "image/png": "[encoded data removed]",
      "text/plain": [
       "<Figure size 432x288 with 1 Axes>"
      ]
     },
     "metadata": {},
     "output_type": "display_data"
    }
   ],
   "source": [
    "#L2 model for order 3\n",
    "\n",
    "X11=polynomial_dataframe(X1,3)\n",
    "\n",
    "ridge6=Ridge(alpha=l2_small_penalty,normalize=True, fit_intercept=True)\n",
    "ridge6.fit(X11,y1)\n",
    "print('intercept ',ridge6.intercept_)\n",
    "print(pd.Series(ridge6.coef_,index=X11.columns))\n",
    "\n",
    "x11_pred=ridge6.predict(X11)\n",
    "\n",
    "plt.plot(X1,x11_pred)\n",
    "plt.scatter(X1,y1,c='black')\n",
    "plt.ylabel('Predicted values')\n",
    "plt.xlabel('Sqft_living')\n",
    "plt.title('L2 Regularised Regression Model of Order 3')\n",
    "plt.show()"
   ]
  },
  {
   "cell_type": "code",
   "execution_count": 49,
   "metadata": {},
   "outputs": [
    {
     "name": "stdout",
     "output_type": "stream",
     "text": [
      "intercept  275518.16506463\n",
      "power_1   -1.271831e+01\n",
      "power_2    5.972112e-02\n",
      "power_3   -1.426776e-06\n",
      "power_4    8.196905e-11\n",
      "dtype: float64\n"
     ]
    },
    {
     "data": {
      "image/png": "[encoded data removed]",
      "text/plain": [
       "<Figure size 432x288 with 1 Axes>"
      ]
     },
     "metadata": {},
     "output_type": "display_data"
    }
   ],
   "source": [
    "#L2 model for order 4\n",
    "\n",
    "X11=polynomial_dataframe(X1,4)\n",
    "\n",
    "ridge6=Ridge(alpha=l2_small_penalty,normalize=True, fit_intercept=True)\n",
    "ridge6.fit(X11,y1)\n",
    "print('intercept ',ridge6.intercept_)\n",
    "print(pd.Series(ridge6.coef_,index=X11.columns))\n",
    "\n",
    "x11_pred=ridge6.predict(X11)\n",
    "\n",
    "plt.plot(X1,x11_pred)\n",
    "plt.scatter(X1,y1,c='black')\n",
    "plt.ylabel('Predicted values')\n",
    "plt.xlabel('Sqft_living')\n",
    "plt.title('L2 Regularised Regression Model of Order 4')\n",
    "plt.show()"
   ]
  },
  {
   "cell_type": "code",
   "execution_count": 50,
   "metadata": {},
   "outputs": [
    {
     "name": "stdout",
     "output_type": "stream",
     "text": [
      "intercept  284761.79389571946\n",
      "power_1   -3.076608e+01\n",
      "power_2    7.154497e-02\n",
      "power_3   -4.692184e-06\n",
      "power_4    4.637330e-10\n",
      "power_5   -1.521838e-14\n",
      "dtype: float64\n"
     ]
    },
    {
     "data": {
      "image/png": "[encoded data removed]",
      "text/plain": [
       "<Figure size 432x288 with 1 Axes>"
      ]
     },
     "metadata": {},
     "output_type": "display_data"
    }
   ],
   "source": [
    "#L2 model for order 5\n",
    "\n",
    "X11=polynomial_dataframe(X1,5)\n",
    "\n",
    "ridge6=Ridge(alpha=l2_small_penalty,normalize=True, fit_intercept=True)\n",
    "ridge6.fit(X11,y1)\n",
    "print('intercept ',ridge6.intercept_)\n",
    "print(pd.Series(ridge6.coef_,index=X11.columns))\n",
    "\n",
    "x11_pred=ridge6.predict(X11)\n",
    "\n",
    "plt.plot(X1,x11_pred)\n",
    "plt.scatter(X1,y1,c='black')\n",
    "plt.ylabel('Predicted values')\n",
    "plt.xlabel('Sqft_living')\n",
    "plt.title('L2 Regularised Regression Model of Order 5')\n",
    "plt.show()"
   ]
  },
  {
   "cell_type": "markdown",
   "metadata": {},
   "source": [
    "L2 regularised linear model for order 3,4 and 5, very small ncreasing overfitting can be seen.\n",
    "\n",
    "With lower complexity, overfitting is less.\n",
    "\n"
   ]
  },
  {
   "cell_type": "markdown",
   "metadata": {},
   "source": [
    "### 3c. Fit a polynomial of order 15 (Use L2 Penalty)\n",
    "\n",
    "Now try a 15th degree polynomial (Use the L2_small_penalty). Print out the coefficients and look at the resulted fitted line. Do you think this degree is appropriate for these data? If we were to use a different subset of the data do you think we would get pretty much the same curve?"
   ]
  },
  {
   "cell_type": "code",
   "execution_count": 51,
   "metadata": {},
   "outputs": [
    {
     "name": "stdout",
     "output_type": "stream",
     "text": [
      "intercept  200016.12341889658\n",
      "power_1     1.398484e+02\n",
      "power_2    -3.801365e-02\n",
      "power_3     2.091285e-05\n",
      "power_4    -7.374826e-10\n",
      "power_5    -1.789261e-13\n",
      "power_6    -2.752310e-18\n",
      "power_7     7.722181e-22\n",
      "power_8     8.354071e-26\n",
      "power_9     4.659695e-30\n",
      "power_10    9.956792e-35\n",
      "power_11   -1.116553e-38\n",
      "power_12   -1.750081e-42\n",
      "power_13   -1.463662e-46\n",
      "power_14   -7.793427e-51\n",
      "power_15   -3.737771e-56\n",
      "dtype: float64\n"
     ]
    },
    {
     "data": {
      "image/png": "[encoded data removed]",
      "text/plain": [
       "<Figure size 432x288 with 1 Axes>"
      ]
     },
     "metadata": {},
     "output_type": "display_data"
    }
   ],
   "source": [
    "#L2 model for order 15\n",
    "\n",
    "datap1=pd.read_csv('C://Users//Vinay//Downloads//Model_Interpretation//wk3_kc_house_train_data.csv')\n",
    "data3=datap1.sort_values(['sqft_living'],ascending=True)\n",
    "\n",
    "X1=data3.sqft_living\n",
    "y1=data3.price\n",
    "X11=polynomial_dataframe(X1,15)\n",
    "\n",
    "ridge6=Ridge(alpha=l2_small_penalty,normalize=True, fit_intercept=True)\n",
    "ridge6.fit(X11,y1)\n",
    "print('intercept ',ridge6.intercept_)\n",
    "print(pd.Series(ridge6.coef_,index=X11.columns))\n",
    "\n",
    "x11_pred=ridge6.predict(X11)\n",
    "\n",
    "plt.plot(X1,x11_pred)\n",
    "plt.scatter(X1,y1,c='black')\n",
    "plt.ylabel('Predicted values')\n",
    "plt.xlabel('Sqft_living')\n",
    "plt.title('L2 Regularised Regression Model of Order 15')\n",
    "plt.show()"
   ]
  },
  {
   "cell_type": "markdown",
   "metadata": {
    "collapsed": true
   },
   "source": [
    "In this experiment, the higher degree is increasing the variance in the model, which is creating overfitting. But at the same time it is reducing the bias in the model, which is helping in reducing undrefitting.\n",
    "\n",
    "So, it is required to create a trade-off between the bias and variance.\n",
    "\n",
    "Very high overfitting can be seen with small tuning parameter/alpha for order 15 because of high variance.\n",
    "\n",
    "But here, overfitting is less compared to the OLS model. This is mainly because of tuning parameter/alpha value.\n",
    "\n",
    "Also, with small tuning parameter(very close to 0), it can be easily seen that, the model tends to follow Ordinary Least square solution (OLS)."
   ]
  },
  {
   "cell_type": "code",
   "execution_count": null,
   "metadata": {},
   "outputs": [],
   "source": []
  },
  {
   "cell_type": "code",
   "execution_count": null,
   "metadata": {},
   "outputs": [],
   "source": []
  },
  {
   "cell_type": "markdown",
   "metadata": {},
   "source": [
    "### 3d. Explore Overfitting due to High Variance (Due to less penalization)\n",
    "Estimate a 15th degree polynomial on all 4 subsets of the original sample (provided to you), plot the results and view the coefficients for all four models."
   ]
  },
  {
   "cell_type": "code",
   "execution_count": 80,
   "metadata": {},
   "outputs": [
    {
     "name": "stdout",
     "output_type": "stream",
     "text": [
      "Shape of Dataset :  (5404, 21)\n",
      "intercept  288998.10746191\n",
      "power_1    -1.521072e+01\n",
      "power_2     4.322619e-02\n",
      "power_3     7.613014e-06\n",
      "power_4    -1.010525e-09\n",
      "power_5    -3.598302e-14\n",
      "power_6     2.800674e-18\n",
      "power_7     3.295998e-22\n",
      "power_8     1.655002e-26\n",
      "power_9     2.777676e-31\n",
      "power_10   -3.528867e-35\n",
      "power_11   -4.653746e-39\n",
      "power_12   -3.493436e-43\n",
      "power_13   -1.836157e-47\n",
      "power_14   -4.561805e-52\n",
      "power_15    4.508343e-56\n",
      "dtype: float64\n"
     ]
    },
    {
     "data": {
      "image/png": "[encoded data removed]",
      "text/plain": [
       "<Figure size 432x288 with 1 Axes>"
      ]
     },
     "metadata": {},
     "output_type": "display_data"
    }
   ],
   "source": [
    "#for dataset 1\n",
    "\n",
    "datap1=pd.read_csv('C://Users//Vinay//Downloads//Model_Interpretation//wk3_kc_house_set_1_data.csv')\n",
    "print('Shape of Dataset : ',datap1.shape)\n",
    "data3=datap1.sort_values(['sqft_living'],ascending=True)\n",
    "\n",
    "X1=data3.sqft_living\n",
    "y1=data3.price\n",
    "X11=polynomial_dataframe(X1,15)\n",
    "\n",
    "ridge6=Ridge(alpha=l2_small_penalty,normalize=True, fit_intercept=True)\n",
    "ridge6.fit(X11,y1)\n",
    "print('intercept ',ridge6.intercept_)\n",
    "print(pd.Series(ridge6.coef_,index=X11.columns))\n",
    "\n",
    "x11_pred=ridge6.predict(X11)\n",
    "\n",
    "plt.plot(X1,x11_pred)\n",
    "plt.scatter(X1,y1,c='black')\n",
    "plt.ylabel('Predicted values')\n",
    "plt.xlabel('Sqft_living')\n",
    "plt.title('L2 Regularised Regression Model of Order 15 on Dataset1')\n",
    "plt.show()"
   ]
  },
  {
   "cell_type": "code",
   "execution_count": 81,
   "metadata": {},
   "outputs": [
    {
     "name": "stdout",
     "output_type": "stream",
     "text": [
      "Shape of Dataset :  (5398, 21)\n",
      "intercept  113497.43719155982\n",
      "power_1     2.881851e+02\n",
      "power_2    -1.006667e-01\n",
      "power_3     1.969374e-05\n",
      "power_4     2.734468e-09\n",
      "power_5    -2.151269e-13\n",
      "power_6    -5.519020e-17\n",
      "power_7    -3.675677e-21\n",
      "power_8     8.955635e-26\n",
      "power_9     4.705539e-29\n",
      "power_10    5.946576e-33\n",
      "power_11    4.572079e-37\n",
      "power_12    1.559803e-41\n",
      "power_13   -1.767603e-45\n",
      "power_14   -4.156648e-49\n",
      "power_15   -4.608728e-53\n",
      "dtype: float64\n"
     ]
    },
    {
     "data": {
      "image/png": "[encoded data removed]",
      "text/plain": [
       "<Figure size 432x288 with 1 Axes>"
      ]
     },
     "metadata": {},
     "output_type": "display_data"
    }
   ],
   "source": [
    "#for dataset 2\n",
    "\n",
    "datap1=pd.read_csv('C://Users//Vinay//Downloads//Model_Interpretation//wk3_kc_house_set_2_data.csv')\n",
    "print('Shape of Dataset : ',datap1.shape)\n",
    "data3=datap1.sort_values(['sqft_living'],ascending=True)\n",
    "\n",
    "X1=data3.sqft_living\n",
    "y1=data3.price\n",
    "X11=polynomial_dataframe(X1,15)\n",
    "\n",
    "ridge6=Ridge(alpha=l2_small_penalty,normalize=True, fit_intercept=True)\n",
    "ridge6.fit(X11,y1)\n",
    "print('intercept ',ridge6.intercept_)\n",
    "print(pd.Series(ridge6.coef_,index=X11.columns))\n",
    "\n",
    "x11_pred=ridge6.predict(X11)\n",
    "\n",
    "plt.plot(X1,x11_pred)\n",
    "plt.scatter(X1,y1,c='black')\n",
    "plt.ylabel('Predicted values')\n",
    "plt.xlabel('Sqft_living')\n",
    "plt.title('L2 Regularised Regression Model of Order 15 on Dataset2')\n",
    "plt.show()"
   ]
  },
  {
   "cell_type": "code",
   "execution_count": 79,
   "metadata": {},
   "outputs": [
    {
     "name": "stdout",
     "output_type": "stream",
     "text": [
      "Shape of Dataset :  (5409, 21)\n",
      "intercept  174149.6043119643\n",
      "power_1     1.871745e+02\n",
      "power_2    -6.120770e-02\n",
      "power_3     2.365133e-05\n",
      "power_4    -1.986093e-10\n",
      "power_5    -2.520728e-13\n",
      "power_6    -1.183843e-17\n",
      "power_7     9.608936e-22\n",
      "power_8     1.822185e-25\n",
      "power_9     1.275362e-29\n",
      "power_10    7.234892e-35\n",
      "power_11   -1.002419e-37\n",
      "power_12   -1.448898e-41\n",
      "power_13   -1.071478e-45\n",
      "power_14    1.056665e-50\n",
      "power_15    1.933544e-53\n",
      "dtype: float64\n"
     ]
    },
    {
     "data": {
      "image/png": "[encoded data removed]",
      "text/plain": [
       "<Figure size 432x288 with 1 Axes>"
      ]
     },
     "metadata": {},
     "output_type": "display_data"
    }
   ],
   "source": [
    "#for dataset 3\n",
    "\n",
    "datap1=pd.read_csv('C://Users//Vinay//Downloads//Model_Interpretation//wk3_kc_house_set_3_data.csv')\n",
    "print('Shape of Dataset : ',datap1.shape)\n",
    "data3=datap1.sort_values(['sqft_living'],ascending=True)\n",
    "\n",
    "X1=data3.sqft_living\n",
    "y1=data3.price\n",
    "X11=polynomial_dataframe(X1,15)\n",
    "\n",
    "ridge6=Ridge(alpha=l2_small_penalty,normalize=True, fit_intercept=True)\n",
    "ridge6.fit(X11,y1)\n",
    "print('intercept ',ridge6.intercept_)\n",
    "print(pd.Series(ridge6.coef_,index=X11.columns))\n",
    "\n",
    "x11_pred=ridge6.predict(X11)\n",
    "\n",
    "plt.plot(X1,x11_pred)\n",
    "plt.scatter(X1,y1,c='black')\n",
    "plt.ylabel('Predicted values')\n",
    "plt.xlabel('Sqft_living')\n",
    "plt.title('L2 Regularised Regression Model of Order 15 on Dataset3')\n",
    "plt.show()"
   ]
  },
  {
   "cell_type": "code",
   "execution_count": 82,
   "metadata": {},
   "outputs": [
    {
     "name": "stdout",
     "output_type": "stream",
     "text": [
      "Shape of Dataset :  (5402, 21)\n",
      "intercept  175579.19735911133\n",
      "power_1     1.290052e+02\n",
      "power_2     2.495609e-02\n",
      "power_3    -1.328202e-05\n",
      "power_4     2.004839e-09\n",
      "power_5     6.909411e-13\n",
      "power_6     1.951527e-17\n",
      "power_7    -1.277240e-20\n",
      "power_8    -2.494318e-24\n",
      "power_9    -2.106240e-28\n",
      "power_10    4.709508e-33\n",
      "power_11    4.629674e-36\n",
      "power_12    8.423701e-40\n",
      "power_13    8.516897e-44\n",
      "power_14    1.127619e-49\n",
      "power_15   -2.319811e-51\n",
      "dtype: float64\n"
     ]
    },
    {
     "data": {
      "image/png": "[encoded data removed]",
      "text/plain": [
       "<Figure size 432x288 with 1 Axes>"
      ]
     },
     "metadata": {},
     "output_type": "display_data"
    }
   ],
   "source": [
    "#for dataset 4\n",
    "\n",
    "datap1=pd.read_csv('C://Users//Vinay//Downloads//Model_Interpretation//wk3_kc_house_set_4_data.csv')\n",
    "print('Shape of Dataset : ',datap1.shape)\n",
    "data3=datap1.sort_values(['sqft_living'],ascending=True)\n",
    "\n",
    "X1=data3.sqft_living\n",
    "y1=data3.price\n",
    "X11=polynomial_dataframe(X1,15)\n",
    "\n",
    "ridge6=Ridge(alpha=l2_small_penalty,normalize=True, fit_intercept=True)\n",
    "ridge6.fit(X11,y1)\n",
    "print('intercept ',ridge6.intercept_)\n",
    "print(pd.Series(ridge6.coef_,index=X11.columns))\n",
    "\n",
    "x11_pred=ridge6.predict(X11)\n",
    "\n",
    "plt.plot(X1,x11_pred)\n",
    "plt.scatter(X1,y1,c='black')\n",
    "plt.ylabel('Predicted values')\n",
    "plt.xlabel('Sqft_living')\n",
    "plt.title('L2 Regularised Regression Model of Order 15 on Dataset4')\n",
    "plt.show()"
   ]
  },
  {
   "cell_type": "markdown",
   "metadata": {},
   "source": [
    "What do you observe? Validate your understanding based on the output you got."
   ]
  },
  {
   "cell_type": "markdown",
   "metadata": {
    "collapsed": true
   },
   "source": [
    "Yes, overfitting is observed with higher complexity data even when the dataset set is changed, when smaller value of alpha has been taken.\n",
    "\n",
    "With small tuning parameter/alpha L2 regularisation model is less likely to penalise coefficients, hence variance is high and overfitting can be seen clearly.\n",
    "\n",
    "Small tuning parameter, makes model to follow OLS solution, where with increase in complexity, overfitting increases( beacuse variance is high)."
   ]
  },
  {
   "cell_type": "code",
   "execution_count": null,
   "metadata": {},
   "outputs": [],
   "source": []
  },
  {
   "cell_type": "markdown",
   "metadata": {},
   "source": [
    "## 4. Penalizing the Coefficient to Prevent Overfitting"
   ]
  },
  {
   "cell_type": "markdown",
   "metadata": {},
   "source": [
    "Generally, whenever we see weights change so much in response to change in data, we believe the variance of our estimate to be large. Ridge regression aims to address this issue by penalizing \"large\" weights. (The weights looked quite small, but they are not that small because 'sqft_living' input is in the order of thousands.)\n",
    "\n",
    "\n"
   ]
  },
  {
   "cell_type": "code",
   "execution_count": 56,
   "metadata": {},
   "outputs": [],
   "source": [
    "l2_large_penalty=1.23e2"
   ]
  },
  {
   "cell_type": "code",
   "execution_count": null,
   "metadata": {},
   "outputs": [],
   "source": []
  },
  {
   "cell_type": "markdown",
   "metadata": {
    "collapsed": true
   },
   "source": [
    "### 4a. Repeat steps 3a and 3b (Using large L2 penalty)"
   ]
  },
  {
   "cell_type": "code",
   "execution_count": 57,
   "metadata": {},
   "outputs": [
    {
     "name": "stdout",
     "output_type": "stream",
     "text": [
      "intercept  535725.5346442527\n",
      "power_1    2.30878\n",
      "power_2    0.00042\n",
      "dtype: float64\n"
     ]
    },
    {
     "data": {
      "image/png": "[encoded data removed]",
      "text/plain": [
       "<Figure size 432x288 with 1 Axes>"
      ]
     },
     "metadata": {},
     "output_type": "display_data"
    }
   ],
   "source": [
    "#L2 model for order 2\n",
    "\n",
    "datap1=pd.read_csv('C://Users//Vinay//Downloads//Model_Interpretation//wk3_kc_house_train_data.csv')\n",
    "data3=datap1.sort_values(['sqft_living'],ascending=True)\n",
    "\n",
    "X1=data3.sqft_living\n",
    "y1=data3.price\n",
    "X11=polynomial_dataframe(X1,2)\n",
    "\n",
    "ridge6=Ridge(alpha=l2_large_penalty,normalize=True, fit_intercept=True)\n",
    "ridge6.fit(X11,y1)\n",
    "print('intercept ',ridge6.intercept_)\n",
    "print(pd.Series(ridge6.coef_,index=X11.columns))\n",
    "\n",
    "x11_pred=ridge6.predict(X11)\n",
    "\n",
    "plt.plot(X1,x11_pred)\n",
    "plt.scatter(X1,y1,c='black')\n",
    "plt.ylabel('Predicted values')\n",
    "plt.xlabel('Sqft_living')\n",
    "plt.title('L2 Regularised Regression Model of Order 2 with large alpha')\n",
    "plt.show()"
   ]
  },
  {
   "cell_type": "code",
   "execution_count": 58,
   "metadata": {},
   "outputs": [
    {
     "name": "stdout",
     "output_type": "stream",
     "text": [
      "intercept  534823.7901394919\n",
      "power_1    2.295315e+00\n",
      "power_2    4.174898e-04\n",
      "power_3    6.053758e-08\n",
      "dtype: float64\n"
     ]
    },
    {
     "data": {
      "image/png": "[encoded data removed]",
      "text/plain": [
       "<Figure size 432x288 with 1 Axes>"
      ]
     },
     "metadata": {},
     "output_type": "display_data"
    }
   ],
   "source": [
    "#L2 model for order 3\n",
    "\n",
    "datap1=pd.read_csv('C://Users//Vinay//Downloads//Model_Interpretation//wk3_kc_house_train_data.csv')\n",
    "data3=datap1.sort_values(['sqft_living'],ascending=True)\n",
    "\n",
    "X1=data3.sqft_living\n",
    "y1=data3.price\n",
    "X11=polynomial_dataframe(X1,3)\n",
    "\n",
    "ridge6=Ridge(alpha=l2_large_penalty,normalize=True, fit_intercept=True)\n",
    "ridge6.fit(X11,y1)\n",
    "print('intercept ',ridge6.intercept_)\n",
    "print(pd.Series(ridge6.coef_,index=X11.columns))\n",
    "\n",
    "x11_pred=ridge6.predict(X11)\n",
    "\n",
    "plt.plot(X1,x11_pred)\n",
    "plt.scatter(X1,y1,c='black')\n",
    "plt.ylabel('Predicted values')\n",
    "plt.xlabel('Sqft_living')\n",
    "plt.title('L2 Regularised Regression Model of Order 3 with large alpha')\n",
    "plt.show()"
   ]
  },
  {
   "cell_type": "code",
   "execution_count": 59,
   "metadata": {},
   "outputs": [
    {
     "name": "stdout",
     "output_type": "stream",
     "text": [
      "intercept  534532.9867684139\n",
      "power_1    2.288308e+00\n",
      "power_2    4.157535e-04\n",
      "power_3    6.018506e-08\n",
      "power_4    5.664341e-12\n",
      "dtype: float64\n"
     ]
    },
    {
     "data": {
      "image/png": "[encoded data removed]",
      "text/plain": [
       "<Figure size 432x288 with 1 Axes>"
      ]
     },
     "metadata": {},
     "output_type": "display_data"
    }
   ],
   "source": [
    "#L2 model for order 4\n",
    "\n",
    "datap1=pd.read_csv('C://Users//Vinay//Downloads//Model_Interpretation//wk3_kc_house_train_data.csv')\n",
    "data3=datap1.sort_values(['sqft_living'],ascending=True)\n",
    "\n",
    "X1=data3.sqft_living\n",
    "y1=data3.price\n",
    "X11=polynomial_dataframe(X1,4)\n",
    "\n",
    "\n",
    "\n",
    "ridge6=Ridge(alpha=l2_large_penalty,normalize=True, fit_intercept=True)\n",
    "ridge6.fit(X11,y1)\n",
    "print('intercept ',ridge6.intercept_)\n",
    "print(pd.Series(ridge6.coef_,index=X11.columns))\n",
    "\n",
    "x11_pred=ridge6.predict(X11)\n",
    "\n",
    "plt.plot(X1,x11_pred)\n",
    "plt.scatter(X1,y1,c='black')\n",
    "plt.ylabel('Predicted values')\n",
    "plt.xlabel('Sqft_living')\n",
    "plt.title('L2 Regularised Regression Model of Order 4 with large alpha')\n",
    "plt.show()"
   ]
  },
  {
   "cell_type": "code",
   "execution_count": 60,
   "metadata": {},
   "outputs": [
    {
     "name": "stdout",
     "output_type": "stream",
     "text": [
      "intercept  534446.1084004383\n",
      "power_1    2.284967e+00\n",
      "power_2    4.147831e-04\n",
      "power_3    5.995776e-08\n",
      "power_4    5.631698e-12\n",
      "power_5    4.127855e-16\n",
      "dtype: float64\n"
     ]
    },
    {
     "data": {
      "image/png": "[encoded data removed]",
      "text/plain": [
       "<Figure size 432x288 with 1 Axes>"
      ]
     },
     "metadata": {},
     "output_type": "display_data"
    }
   ],
   "source": [
    "#L2 model for order 5\n",
    "\n",
    "datap1=pd.read_csv('C://Users//Vinay//Downloads//Model_Interpretation//wk3_kc_house_train_data.csv')\n",
    "data3=datap1.sort_values(['sqft_living'],ascending=True)\n",
    "\n",
    "X1=data3.sqft_living\n",
    "y1=data3.price\n",
    "X11=polynomial_dataframe(X1,5)\n",
    "\n",
    "ridge6=Ridge(alpha=l2_large_penalty,normalize=True, fit_intercept=True)\n",
    "ridge6.fit(X11,y1)\n",
    "print('intercept ',ridge6.intercept_)\n",
    "print(pd.Series(ridge6.coef_,index=X11.columns))\n",
    "\n",
    "x11_pred=ridge6.predict(X11)\n",
    "\n",
    "plt.plot(X1,x11_pred)\n",
    "plt.scatter(X1,y1,c='black')\n",
    "plt.ylabel('Predicted values')\n",
    "plt.xlabel('Sqft_living')\n",
    "plt.title('L2 Regularised Regression Model of Order 5 with large alpha')\n",
    "plt.show()"
   ]
  },
  {
   "cell_type": "markdown",
   "metadata": {},
   "source": [
    "### 4b. Fit a polynomial of order 15 (Using large L2 penalty)"
   ]
  },
  {
   "cell_type": "code",
   "execution_count": 61,
   "metadata": {},
   "outputs": [
    {
     "name": "stdout",
     "output_type": "stream",
     "text": [
      "intercept  534381.588880089\n",
      "power_1     2.277373e+00\n",
      "power_2     4.118422e-04\n",
      "power_3     5.909967e-08\n",
      "power_4     5.488657e-12\n",
      "power_5     3.968564e-16\n",
      "power_6     2.758020e-20\n",
      "power_7     1.985331e-24\n",
      "power_8     1.489106e-28\n",
      "power_9     1.151924e-32\n",
      "power_10    9.098372e-37\n",
      "power_11    7.285939e-41\n",
      "power_12    5.888708e-45\n",
      "power_13    4.789831e-49\n",
      "power_14    3.913689e-53\n",
      "power_15    3.208427e-57\n",
      "dtype: float64\n"
     ]
    },
    {
     "data": {
      "image/png": "[encoded data removed]",
      "text/plain": [
       "<Figure size 432x288 with 1 Axes>"
      ]
     },
     "metadata": {},
     "output_type": "display_data"
    }
   ],
   "source": [
    "datap1=pd.read_csv('C://Users//Vinay//Downloads//Model_Interpretation//wk3_kc_house_train_data.csv')\n",
    "data3=datap1.sort_values(['sqft_living'],ascending=True)\n",
    "\n",
    "X1=data3.sqft_living\n",
    "y1=data3.price\n",
    "X11=polynomial_dataframe(X1,15)\n",
    "\n",
    "ridge6=Ridge(alpha=l2_large_penalty,normalize=True, fit_intercept=True)\n",
    "ridge6.fit(X11,y1)\n",
    "print('intercept ',ridge6.intercept_)\n",
    "print(pd.Series(ridge6.coef_,index=X11.columns))\n",
    "\n",
    "x11_pred=ridge6.predict(X11)\n",
    "\n",
    "plt.plot(X1,x11_pred)\n",
    "plt.scatter(X1,y1,c='black')\n",
    "plt.ylabel('Predicted values')\n",
    "plt.xlabel('Sqft_living')\n",
    "plt.title('L2 Regularised Regression Model of Order 15 with large alpha')\n",
    "plt.show()"
   ]
  },
  {
   "cell_type": "markdown",
   "metadata": {
    "collapsed": true
   },
   "source": [
    "It can be clearly seen from the above experiment that, when tuning parameter/alpha is high, in order to minimise the cost function the L2 optimization model chooses the very small value of coefficients.\n",
    "\n",
    "With high value of tuning parameter/alpha, the variance seems to decrease but simultaneously increases the Bias in the data. Hence model is not overfitted but underfitting can be observed.\n",
    "\n",
    "Model is highly biased with high alpha even at higher complexity."
   ]
  },
  {
   "cell_type": "code",
   "execution_count": null,
   "metadata": {},
   "outputs": [],
   "source": []
  },
  {
   "cell_type": "markdown",
   "metadata": {},
   "source": [
    "### 4c. Overfitting or Not?\n",
    "\n",
    "Fit a 15th-order polynomial model on set_1, set_2, set_3, and set_4, this time with a large L2 penalty. These curves should vary a lot less, now that you introduced regularization."
   ]
  },
  {
   "cell_type": "code",
   "execution_count": 62,
   "metadata": {},
   "outputs": [
    {
     "name": "stdout",
     "output_type": "stream",
     "text": [
      "intercept  539103.0310577954\n",
      "power_1     2.328068e+00\n",
      "power_2     3.536216e-04\n",
      "power_3     3.319697e-08\n",
      "power_4     2.000825e-12\n",
      "power_5     1.114926e-16\n",
      "power_6     6.577861e-21\n",
      "power_7     4.129395e-25\n",
      "power_8     2.703938e-29\n",
      "power_9     1.816148e-33\n",
      "power_10    1.238243e-37\n",
      "power_11    8.518725e-42\n",
      "power_12    5.894556e-46\n",
      "power_13    4.095426e-50\n",
      "power_14    2.854649e-54\n",
      "power_15    1.995475e-58\n",
      "dtype: float64\n"
     ]
    },
    {
     "data": {
      "image/png": "[encoded data removed]",
      "text/plain": [
       "<Figure size 432x288 with 1 Axes>"
      ]
     },
     "metadata": {},
     "output_type": "display_data"
    }
   ],
   "source": [
    "#for dataset 1\n",
    "\n",
    "datap1=pd.read_csv('C://Users//Vinay//Downloads//Model_Interpretation//wk3_kc_house_set_1_data.csv')\n",
    "data3=datap1.sort_values(['sqft_living'],ascending=True)\n",
    "\n",
    "X1=data3.sqft_living\n",
    "y1=data3.price\n",
    "X11=polynomial_dataframe(X1,15)\n",
    "\n",
    "ridge6=Ridge(alpha=l2_large_penalty,normalize=True, fit_intercept=True)\n",
    "ridge6.fit(X11,y1)\n",
    "print('intercept ',ridge6.intercept_)\n",
    "print(pd.Series(ridge6.coef_,index=X11.columns))\n",
    "\n",
    "x11_pred=ridge6.predict(X11)\n",
    "\n",
    "plt.plot(X1,x11_pred)\n",
    "plt.scatter(X1,y1,c='black')\n",
    "plt.ylabel('Predicted values')\n",
    "plt.xlabel('Sqft_living')\n",
    "plt.title('L2 Regularised Regression Model of Order 15 with large alpha for Dataset 1')\n",
    "plt.show()"
   ]
  },
  {
   "cell_type": "markdown",
   "metadata": {},
   "source": []
  },
  {
   "cell_type": "code",
   "execution_count": 63,
   "metadata": {},
   "outputs": [
    {
     "name": "stdout",
     "output_type": "stream",
     "text": [
      "intercept  529853.0253577976\n",
      "power_1     2.097569e+00\n",
      "power_2     3.908175e-04\n",
      "power_3     6.671899e-08\n",
      "power_4     8.900030e-12\n",
      "power_5     9.726399e-16\n",
      "power_6     9.697337e-20\n",
      "power_7     9.505645e-24\n",
      "power_8     9.444910e-28\n",
      "power_9     9.571913e-32\n",
      "power_10    9.869452e-36\n",
      "power_11    1.031011e-39\n",
      "power_12    1.087298e-43\n",
      "power_13    1.154537e-47\n",
      "power_14    1.232113e-51\n",
      "power_15    1.319867e-55\n",
      "dtype: float64\n"
     ]
    },
    {
     "data": {
      "image/png": "[encoded data removed]",
      "text/plain": [
       "<Figure size 432x288 with 1 Axes>"
      ]
     },
     "metadata": {},
     "output_type": "display_data"
    }
   ],
   "source": [
    "#for dataset 2\n",
    "\n",
    "datap1=pd.read_csv('C://Users//Vinay//Downloads//Model_Interpretation//wk3_kc_house_set_2_data.csv')\n",
    "data3=datap1.sort_values(['sqft_living'],ascending=True)\n",
    "\n",
    "X1=data3.sqft_living\n",
    "y1=data3.price\n",
    "X11=polynomial_dataframe(X1,15)\n",
    "\n",
    "ridge6=Ridge(alpha=l2_large_penalty,normalize=True, fit_intercept=True)\n",
    "ridge6.fit(X11,y1)\n",
    "print('intercept ',ridge6.intercept_)\n",
    "print(pd.Series(ridge6.coef_,index=X11.columns))\n",
    "\n",
    "x11_pred=ridge6.predict(X11)\n",
    "\n",
    "plt.plot(X1,x11_pred)\n",
    "plt.scatter(X1,y1,c='black')\n",
    "plt.ylabel('Predicted values')\n",
    "plt.xlabel('Sqft_living')\n",
    "plt.title('L2 Regularised Regression Model of Order 15 with large alpha for Dataset 2')\n",
    "plt.show()"
   ]
  },
  {
   "cell_type": "code",
   "execution_count": 64,
   "metadata": {},
   "outputs": [
    {
     "name": "stdout",
     "output_type": "stream",
     "text": [
      "intercept  533640.1140974432\n",
      "power_1     2.289063e+00\n",
      "power_2     4.124722e-04\n",
      "power_3     6.088353e-08\n",
      "power_4     6.585722e-12\n",
      "power_5     6.152782e-16\n",
      "power_6     5.644466e-20\n",
      "power_7     5.288344e-24\n",
      "power_8     5.070914e-28\n",
      "power_9     4.946573e-32\n",
      "power_10    4.880438e-36\n",
      "power_11    4.850091e-40\n",
      "power_12    4.841615e-44\n",
      "power_13    4.846350e-48\n",
      "power_14    4.858836e-52\n",
      "power_15    4.875585e-56\n",
      "dtype: float64\n"
     ]
    },
    {
     "data": {
      "image/png": "[encoded data removed]",
      "text/plain": [
       "<Figure size 432x288 with 1 Axes>"
      ]
     },
     "metadata": {},
     "output_type": "display_data"
    }
   ],
   "source": [
    "#for dataset 3\n",
    "\n",
    "datap1=pd.read_csv('C://Users//Vinay//Downloads//Model_Interpretation//wk3_kc_house_set_3_data.csv')\n",
    "data3=datap1.sort_values(['sqft_living'],ascending=True)\n",
    "\n",
    "X1=data3.sqft_living\n",
    "y1=data3.price\n",
    "X11=polynomial_dataframe(X1,15)\n",
    "\n",
    "ridge6=Ridge(alpha=l2_large_penalty,normalize=True, fit_intercept=True)\n",
    "ridge6.fit(X11,y1)\n",
    "print('intercept ',ridge6.intercept_)\n",
    "print(pd.Series(ridge6.coef_,index=X11.columns))\n",
    "\n",
    "x11_pred=ridge6.predict(X11)\n",
    "\n",
    "plt.plot(X1,x11_pred)\n",
    "plt.scatter(X1,y1,c='black')\n",
    "plt.ylabel('Predicted values')\n",
    "plt.xlabel('Sqft_living')\n",
    "plt.title('L2 Regularised Regression Model of Order 15 with large alpha for Dataset 3')\n",
    "plt.show()"
   ]
  },
  {
   "cell_type": "code",
   "execution_count": 65,
   "metadata": {},
   "outputs": [
    {
     "name": "stdout",
     "output_type": "stream",
     "text": [
      "intercept  524562.9690466832\n",
      "power_1     2.085962e+00\n",
      "power_2     4.050358e-04\n",
      "power_3     7.468646e-08\n",
      "power_4     1.130966e-11\n",
      "power_5     1.458644e-15\n",
      "power_6     1.735613e-19\n",
      "power_7     2.016096e-23\n",
      "power_8     2.346053e-27\n",
      "power_9     2.756361e-31\n",
      "power_10    3.270431e-35\n",
      "power_11    3.910469e-39\n",
      "power_12    4.701180e-43\n",
      "power_13    5.672123e-47\n",
      "power_14    6.859581e-51\n",
      "power_15    8.308436e-55\n",
      "dtype: float64\n"
     ]
    },
    {
     "data": {
      "image/png": "[encoded data removed]",
      "text/plain": [
       "<Figure size 432x288 with 1 Axes>"
      ]
     },
     "metadata": {},
     "output_type": "display_data"
    }
   ],
   "source": [
    "#for dataset 4\n",
    "\n",
    "datap1=pd.read_csv('C://Users//Vinay//Downloads//Model_Interpretation//wk3_kc_house_set_4_data.csv')\n",
    "data3=datap1.sort_values(['sqft_living'],ascending=True)\n",
    "\n",
    "X1=data3.sqft_living\n",
    "y1=data3.price\n",
    "X11=polynomial_dataframe(X1,15)\n",
    "\n",
    "ridge6=Ridge(alpha=l2_large_penalty,normalize=True, fit_intercept=True)\n",
    "ridge6.fit(X11,y1)\n",
    "print('intercept ',ridge6.intercept_)\n",
    "print(pd.Series(ridge6.coef_,index=X11.columns))\n",
    "\n",
    "x11_pred=ridge6.predict(X11)\n",
    "\n",
    "plt.plot(X1,x11_pred)\n",
    "plt.scatter(X1,y1,c='black')\n",
    "plt.ylabel('Predicted values')\n",
    "plt.xlabel('Sqft_living')\n",
    "plt.title('L2 Regularised Regression Model of Order 15 with large alpha for Dataset 4')\n",
    "plt.show()"
   ]
  },
  {
   "cell_type": "markdown",
   "metadata": {},
   "source": [
    "Unlike, the graphs of the small alpha value, here with high tuning parameter/alpha value, the model, even with high complexity, seems to underfit the data.\n",
    "\n",
    "From above experiment it can be proved that with high tuning parameter, the bias increases and variance decreases.\n",
    "\n",
    "There is no overfitting, but underfitting can be seen with high alpha.\n",
    "\n",
    "Model is highly biased."
   ]
  },
  {
   "cell_type": "markdown",
   "metadata": {},
   "source": [
    "### 4d. Controlling overfitting\n",
    "\n",
    "Select the best alpha value for the 15th-order polynomial model. Re-fit the model on the data. Print the estimated coefficients and plot the model on the scatter plot"
   ]
  },
  {
   "cell_type": "code",
   "execution_count": 83,
   "metadata": {},
   "outputs": [],
   "source": [
    "alphas = 10**np.linspace(10,-2,100)\n",
    "#alphas"
   ]
  },
  {
   "cell_type": "code",
   "execution_count": 84,
   "metadata": {},
   "outputs": [],
   "source": [
    "datap1=pd.read_csv('C://Users//Vinay//Downloads//Model_Interpretation//wk3_kc_house_train_data.csv')\n",
    "data3=datap1.sort_values(['sqft_living'],ascending=True)\n",
    "\n",
    "X1=data3.sqft_living\n",
    "y1=data3.price\n",
    "X11=polynomial_dataframe(X1,15)\n"
   ]
  },
  {
   "cell_type": "code",
   "execution_count": 85,
   "metadata": {},
   "outputs": [],
   "source": [
    "ridge = Ridge(normalize = True)\n",
    "coefs = []                               #initialising coef. blank list\n",
    "mse=[]                                   #initialising mse blank list\n",
    "\n",
    "for a in alphas:\n",
    "    ridge.set_params(alpha = a)\n",
    "    ridge.fit(X11, y1)\n",
    "    coefs.append(ridge.coef_)\n",
    "    mse.append(mean_squared_error(y1,ridge.predict(X11)))\n",
    "    "
   ]
  },
  {
   "cell_type": "code",
   "execution_count": 86,
   "metadata": {},
   "outputs": [
    {
     "data": {
      "text/plain": [
       "63246284692.50496"
      ]
     },
     "execution_count": 86,
     "metadata": {},
     "output_type": "execute_result"
    }
   ],
   "source": [
    "#minimum value for mse\n",
    "min(mse)                        "
   ]
  },
  {
   "cell_type": "code",
   "execution_count": 87,
   "metadata": {},
   "outputs": [
    {
     "data": {
      "text/html": [
       "<div>\n",
       "<style scoped>\n",
       "    .dataframe tbody tr th:only-of-type {\n",
       "        vertical-align: middle;\n",
       "    }\n",
       "\n",
       "    .dataframe tbody tr th {\n",
       "        vertical-align: top;\n",
       "    }\n",
       "\n",
       "    .dataframe thead th {\n",
       "        text-align: right;\n",
       "    }\n",
       "</style>\n",
       "<table border=\"1\" class=\"dataframe\">\n",
       "  <thead>\n",
       "    <tr style=\"text-align: right;\">\n",
       "      <th></th>\n",
       "      <th>Alphas</th>\n",
       "      <th>MSE</th>\n",
       "    </tr>\n",
       "  </thead>\n",
       "  <tbody>\n",
       "    <tr>\n",
       "      <th>0</th>\n",
       "      <td>1.000000e+10</td>\n",
       "      <td>1.440265e+11</td>\n",
       "    </tr>\n",
       "    <tr>\n",
       "      <th>1</th>\n",
       "      <td>7.564633e+09</td>\n",
       "      <td>1.440265e+11</td>\n",
       "    </tr>\n",
       "    <tr>\n",
       "      <th>2</th>\n",
       "      <td>5.722368e+09</td>\n",
       "      <td>1.440265e+11</td>\n",
       "    </tr>\n",
       "    <tr>\n",
       "      <th>3</th>\n",
       "      <td>4.328761e+09</td>\n",
       "      <td>1.440265e+11</td>\n",
       "    </tr>\n",
       "    <tr>\n",
       "      <th>4</th>\n",
       "      <td>3.274549e+09</td>\n",
       "      <td>1.440265e+11</td>\n",
       "    </tr>\n",
       "  </tbody>\n",
       "</table>\n",
       "</div>"
      ],
      "text/plain": [
       "         Alphas           MSE\n",
       "0  1.000000e+10  1.440265e+11\n",
       "1  7.564633e+09  1.440265e+11\n",
       "2  5.722368e+09  1.440265e+11\n",
       "3  4.328761e+09  1.440265e+11\n",
       "4  3.274549e+09  1.440265e+11"
      ]
     },
     "execution_count": 87,
     "metadata": {},
     "output_type": "execute_result"
    }
   ],
   "source": [
    "#creating a dataframe to get corresponding alphas and mse values\n",
    "alphadf=pd.DataFrame(alphas,columns=['Alphas'])\n",
    "alphadf['MSE']=mse\n",
    "alphadf.head()"
   ]
  },
  {
   "cell_type": "code",
   "execution_count": 88,
   "metadata": {},
   "outputs": [
    {
     "data": {
      "text/html": [
       "<div>\n",
       "<style scoped>\n",
       "    .dataframe tbody tr th:only-of-type {\n",
       "        vertical-align: middle;\n",
       "    }\n",
       "\n",
       "    .dataframe tbody tr th {\n",
       "        vertical-align: top;\n",
       "    }\n",
       "\n",
       "    .dataframe thead th {\n",
       "        text-align: right;\n",
       "    }\n",
       "</style>\n",
       "<table border=\"1\" class=\"dataframe\">\n",
       "  <thead>\n",
       "    <tr style=\"text-align: right;\">\n",
       "      <th></th>\n",
       "      <th>Alphas</th>\n",
       "      <th>MSE</th>\n",
       "    </tr>\n",
       "  </thead>\n",
       "  <tbody>\n",
       "    <tr>\n",
       "      <th>99</th>\n",
       "      <td>0.01</td>\n",
       "      <td>6.324628e+10</td>\n",
       "    </tr>\n",
       "  </tbody>\n",
       "</table>\n",
       "</div>"
      ],
      "text/plain": [
       "    Alphas           MSE\n",
       "99    0.01  6.324628e+10"
      ]
     },
     "execution_count": 88,
     "metadata": {},
     "output_type": "execute_result"
    }
   ],
   "source": [
    "#checking for the minimum value of alpha correcponding the minimum value of mse\n",
    "alphadf.loc[alphadf.MSE == 63246284692.50496]"
   ]
  },
  {
   "cell_type": "code",
   "execution_count": 89,
   "metadata": {},
   "outputs": [
    {
     "data": {
      "text/plain": [
       "0.01"
      ]
     },
     "execution_count": 89,
     "metadata": {},
     "output_type": "execute_result"
    }
   ],
   "source": [
    "#getting the minimum value for the alpha with respect to mse\n",
    "alpha1=alphadf.loc[alphadf['MSE'].idxmin()][0]\n",
    "alpha1"
   ]
  },
  {
   "cell_type": "code",
   "execution_count": 90,
   "metadata": {},
   "outputs": [
    {
     "name": "stdout",
     "output_type": "stream",
     "text": [
      "intercept  202982.97496328887\n",
      "power_1     7.988240e+01\n",
      "power_2     2.605603e-02\n",
      "power_3     2.413884e-06\n",
      "power_4     1.273406e-11\n",
      "power_5    -5.806463e-15\n",
      "power_6    -1.262752e-19\n",
      "power_7     2.889372e-23\n",
      "power_8     4.082558e-27\n",
      "power_9     3.379523e-31\n",
      "power_10    2.008559e-35\n",
      "power_11    6.649167e-40\n",
      "power_12   -3.794904e-44\n",
      "power_13   -1.079056e-47\n",
      "power_14   -1.482316e-51\n",
      "power_15   -1.663407e-55\n",
      "dtype: float64\n"
     ]
    },
    {
     "data": {
      "image/png": "[encoded data removed]",
      "text/plain": [
       "<Figure size 432x288 with 1 Axes>"
      ]
     },
     "metadata": {},
     "output_type": "display_data"
    }
   ],
   "source": [
    "#fitting the model with best minimum value obtained above\n",
    "\n",
    "ridgef=Ridge(alpha=alpha1,normalize=True, fit_intercept=True)\n",
    "ridgef.fit(X11,y1)\n",
    "print('intercept ',ridgef.intercept_)\n",
    "print(pd.Series(ridgef.coef_,index=X11.columns))\n",
    "\n",
    "x11_pred=ridgef.predict(X11)\n",
    "\n",
    "plt.plot(X1,x11_pred)\n",
    "plt.scatter(X1,y1,c='black')\n",
    "plt.ylabel('Predicted values')\n",
    "plt.xlabel('Sqft_living')\n",
    "plt.title('L2 Regularised Regression Model of Order 15 with best Alpha')\n",
    "plt.show()"
   ]
  },
  {
   "cell_type": "markdown",
   "metadata": {},
   "source": [
    "In this experiment, the best value of tuning parameter has been selected from a given range which is 0.01.\n",
    "\n",
    "With this best value of tuning parameter(alpha), it can been seen from the graph that, the L2 regularised model seem to create a trade-off between the bias and variance.\n",
    "\n",
    "This model is free from overfitting, and can be seen that, some non-contributing coefficients are made small as close to 0."
   ]
  },
  {
   "cell_type": "markdown",
   "metadata": {},
   "source": [
    "## 5. Selecting an L2 penalty via cross-validation"
   ]
  },
  {
   "cell_type": "markdown",
   "metadata": {},
   "source": [
    "Repeat step 4 but this time using L2 Penalty."
   ]
  },
  {
   "cell_type": "code",
   "execution_count": 75,
   "metadata": {},
   "outputs": [],
   "source": [
    "#FOR MANY ALPHAS...\n",
    "#creating a grid for alpha(a.k.a lambda)\n",
    "\n",
    "alphas=10**np.linspace(10,-2,100)\n"
   ]
  },
  {
   "cell_type": "code",
   "execution_count": 76,
   "metadata": {},
   "outputs": [],
   "source": [
    "datap1=pd.read_csv('C://Users//Vinay//Downloads//Model_Interpretation//wk3_kc_house_train_data.csv')\n",
    "data3=datap1.sort_values(['sqft_living'],ascending=True)\n",
    "\n",
    "X1=data3.sqft_living\n",
    "y1=data3.price\n",
    "X11=polynomial_dataframe(X1,15)\n"
   ]
  },
  {
   "cell_type": "code",
   "execution_count": 77,
   "metadata": {},
   "outputs": [
    {
     "data": {
      "text/plain": [
       "0.12328467394420634"
      ]
     },
     "execution_count": 77,
     "metadata": {},
     "output_type": "execute_result"
    }
   ],
   "source": [
    "#identifying the Best alpha (a.k.a. lambda) using RidgeCV\n",
    "\n",
    "ridgecv=RidgeCV(alphas=alphas,normalize=True,fit_intercept=True)\n",
    "ridgecv.fit(X11,y1)\n",
    "ridgecv.alpha_"
   ]
  },
  {
   "cell_type": "code",
   "execution_count": 78,
   "metadata": {},
   "outputs": [
    {
     "name": "stdout",
     "output_type": "stream",
     "text": [
      "intercept  194887.56594607356\n",
      "power_1     1.034980e+02\n",
      "power_2     1.793665e-02\n",
      "power_3     2.004019e-06\n",
      "power_4     1.136345e-10\n",
      "power_5     3.798624e-15\n",
      "power_6     8.102414e-20\n",
      "power_7    -6.446627e-25\n",
      "power_8    -3.162654e-28\n",
      "power_9    -4.146101e-32\n",
      "power_10   -4.674571e-36\n",
      "power_11   -4.927676e-40\n",
      "power_12   -4.942540e-44\n",
      "power_13   -4.763637e-48\n",
      "power_14   -4.448142e-52\n",
      "power_15   -4.051721e-56\n",
      "dtype: float64\n"
     ]
    },
    {
     "data": {
      "image/png": "[encoded data removed]",
      "text/plain": [
       "<Figure size 432x288 with 1 Axes>"
      ]
     },
     "metadata": {},
     "output_type": "display_data"
    }
   ],
   "source": [
    "print('intercept ',ridgecv.intercept_)\n",
    "print(pd.Series(ridgecv.coef_,index=X11.columns))\n",
    "\n",
    "x11_pred=ridgecv.predict(X11)\n",
    "\n",
    "plt.plot(X1,x11_pred)\n",
    "plt.scatter(X1,y1,c='black')\n",
    "plt.ylabel('Predicted values')\n",
    "plt.xlabel('Sqft_living')\n",
    "plt.title('L2 Regularised Regression Model of Order 15 with best Alpha using RidgeCV')\n",
    "plt.show()"
   ]
  },
  {
   "cell_type": "markdown",
   "metadata": {
    "collapsed": true
   },
   "source": [
    "By default, Ridge regression with built-in cross-validation performs Generalized Cross-Validation, which is a form of efficient Leave-One-Out cross-validation.\n",
    "\n",
    "Here, with this function, best alpha value we get is 0.12328467394420634.\n",
    "\n",
    "It can be seen that, with both method, L2 regularised model is likely to create a balanced model, and avoids overfitting."
   ]
  },
  {
   "cell_type": "code",
   "execution_count": null,
   "metadata": {},
   "outputs": [],
   "source": []
  },
  {
   "cell_type": "markdown",
   "metadata": {
    "collapsed": true
   },
   "source": [
    "Reference: http://www.science.smith.edu/~jcrouser/SDS293/labs/lab10-py.html"
   ]
  }
 ],
 "metadata": {
  "kernelspec": {
   "display_name": "Python 3",
   "language": "python",
   "name": "python3"
  },
  "language_info": {
   "codemirror_mode": {
    "name": "ipython",
    "version": 3
   },
   "file_extension": ".py",
   "mimetype": "text/x-python",
   "name": "python",
   "nbconvert_exporter": "python",
   "pygments_lexer": "ipython3",
   "version": "3.6.5"
  }
 },
 "nbformat": 4,
 "nbformat_minor": 2
}
